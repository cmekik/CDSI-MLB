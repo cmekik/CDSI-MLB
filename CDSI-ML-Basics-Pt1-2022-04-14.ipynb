{
 "cells": [
  {
   "cell_type": "markdown",
   "id": "79f2f681",
   "metadata": {},
   "source": [
    "# Dataset"
   ]
  },
  {
   "cell_type": "code",
   "execution_count": null,
   "id": "1289a45b",
   "metadata": {},
   "outputs": [],
   "source": [
    "from sklearn import datasets\n",
    "digits = datasets.load_digits(as_frame=True)\n",
    "df = digits.frame"
   ]
  },
  {
   "cell_type": "code",
   "execution_count": null,
   "id": "6b795093",
   "metadata": {},
   "outputs": [],
   "source": [
    "df.info()"
   ]
  },
  {
   "cell_type": "code",
   "execution_count": null,
   "id": "47422b4e",
   "metadata": {},
   "outputs": [],
   "source": [
    "df = df.drop(df.loc[~df[\"target\"].isin([2, 7])].index)\n",
    "df.info()"
   ]
  },
  {
   "cell_type": "code",
   "execution_count": null,
   "id": "0ff3f40d",
   "metadata": {},
   "outputs": [],
   "source": [
    "import matplotlib.pyplot as plt\n",
    "\n",
    "pixels = [col for col in df.columns if col.startswith(\"pixel\")]\n",
    "sample = df.sample(12)\n",
    "\n",
    "fig, axs = plt.subplots(3, 4)\n",
    "for ax, index in zip(axs.flat, sample.index):\n",
    "    img = sample.loc[index, pixels].values.reshape((8, 8))\n",
    "    lbl = sample.loc[index, \"target\"]\n",
    "    ax.imshow(img, cmap=\"gray\")\n",
    "    ax.tick_params(\n",
    "        left=False,\n",
    "        bottom=False,\n",
    "        labelleft=False,\n",
    "        labelbottom=False)"
   ]
  },
  {
   "cell_type": "markdown",
   "id": "7f995c89",
   "metadata": {},
   "source": [
    "# Features"
   ]
  },
  {
   "cell_type": "code",
   "execution_count": null,
   "id": "2552bfee",
   "metadata": {},
   "outputs": [],
   "source": [
    "import numpy as np\n",
    "\n",
    "def symmetry(flat_pixels):\n",
    "    img = flat_pixels.values.reshape((8, 8))\n",
    "    return abs(img[:4,:] - np.flip(img[4:, :], axis=0)).mean()\n",
    "    \n",
    "df[\"symmetry\"] = df[pixels].apply(symmetry, axis=\"columns\")\n",
    "df[\"intensity\"] = df[pixels].mean(axis=\"columns\")\n",
    "df[\"label\"] = (df[\"target\"] == 2).astype(int)\n",
    "\n",
    "df = df[[\"intensity\", \"symmetry\", \"label\"]]\n",
    "df.info()\n",
    "df.sample(10)"
   ]
  },
  {
   "cell_type": "code",
   "execution_count": null,
   "id": "027bb1ac",
   "metadata": {},
   "outputs": [],
   "source": [
    "def plot_data(ax, df):\n",
    "    for name, data in df.groupby(\"label\"):\n",
    "        ax.scatter(\"intensity\", \"symmetry\", data=data, label=name)\n",
    "    ax.legend()\n",
    "    ax.set(xlabel=\"Intensity\", ylabel=\"Symmetry\")\n",
    "    return ax\n",
    "\n",
    "fix, ax = plt.subplots()\n",
    "plot_data(ax, df)"
   ]
  },
  {
   "cell_type": "markdown",
   "id": "0a4f08f6",
   "metadata": {},
   "source": [
    "# Random Seed"
   ]
  },
  {
   "cell_type": "code",
   "execution_count": null,
   "id": "4e75dc69",
   "metadata": {},
   "outputs": [],
   "source": [
    "np.random.seed(934545)"
   ]
  },
  {
   "cell_type": "markdown",
   "id": "b0b41bce",
   "metadata": {},
   "source": [
    "# Train-Val Split"
   ]
  },
  {
   "cell_type": "code",
   "execution_count": null,
   "id": "1b69ca39",
   "metadata": {},
   "outputs": [],
   "source": [
    "df = df.sample(frac=1).reset_index(drop=True)\n",
    "split = 260\n",
    "train, val = df.iloc[:split, :], df.iloc[split:, :]\n",
    "\n",
    "X_tr, Y_tr = train[[\"intensity\", \"symmetry\"]], train[\"label\"] \n",
    "X_val, Y_val = val[[\"intensity\", \"symmetry\"]], val[\"label\"]"
   ]
  },
  {
   "cell_type": "markdown",
   "id": "b85c428f",
   "metadata": {},
   "source": [
    "# Plotting Utilities"
   ]
  },
  {
   "cell_type": "code",
   "execution_count": null,
   "id": "79f6fa45",
   "metadata": {},
   "outputs": [],
   "source": [
    "import pandas as pd\n",
    "\n",
    "def plot_decision_boundary(ax, m):\n",
    "    x_min, x_max = df[\"intensity\"].min() - 1, df[\"intensity\"].max() + 1\n",
    "    y_min, y_max = df[\"symmetry\"].min() - 1, df[\"symmetry\"].max() + 1\n",
    "    xx, yy = np.meshgrid(\n",
    "        np.arange(x_min, x_max, 0.01),\n",
    "        np.arange(y_min, y_max, 0.01))\n",
    "    dz = np.c_[xx.ravel(), yy.ravel()]\n",
    "    _df = pd.DataFrame({\n",
    "        \"intensity\": dz[:, 0],\n",
    "        \"symmetry\": dz[:, 1]\n",
    "    })\n",
    "    \n",
    "    Z = m.predict(_df).reshape(xx.shape)\n",
    "    ax.contourf(xx, yy, Z, alpha=0.2)\n",
    "    \n",
    "    return ax\n",
    "\n",
    "def plot_results(ax1, ax2, m, train, val):\n",
    "    plot_decision_boundary(ax1, m)\n",
    "    plot_decision_boundary(ax2, m)\n",
    "    plot_data(ax1, train)\n",
    "    plot_data(ax2, val)\n",
    "    return ax1, ax2"
   ]
  },
  {
   "cell_type": "markdown",
   "id": "0812dc07",
   "metadata": {},
   "source": [
    "# Model 1: A Simple Perceptron"
   ]
  },
  {
   "cell_type": "code",
   "execution_count": null,
   "id": "d85d1dfc",
   "metadata": {},
   "outputs": [],
   "source": [
    "from sklearn.linear_model import Perceptron\n",
    "from sklearn.preprocessing import StandardScaler\n",
    "from sklearn.pipeline import Pipeline\n",
    "\n",
    "model = Pipeline([\n",
    "    (\"scaler\", StandardScaler()),\n",
    "    (\"perceptron\", Perceptron(eta0=0.03))\n",
    "])\n",
    "model.fit(X_tr, Y_tr)"
   ]
  },
  {
   "cell_type": "code",
   "execution_count": null,
   "id": "3f69da27",
   "metadata": {},
   "outputs": [],
   "source": [
    "print(\"Model 1\")\n",
    "print(\"Train:\", model.score(X_tr, Y_tr))\n",
    "print(\"Val:\", model.score(X_val, Y_val))\n",
    "fig, (ax1, ax2) = plt.subplots(ncols=2)\n",
    "plot_results(ax1, ax2, model, train, val)"
   ]
  },
  {
   "cell_type": "code",
   "execution_count": null,
   "id": "eeb648f9",
   "metadata": {},
   "outputs": [],
   "source": [
    "model[1].coef_, model[1].intercept_"
   ]
  },
  {
   "cell_type": "markdown",
   "id": "34fe43ad",
   "metadata": {},
   "source": [
    "# Feature Tranfsorms: The Polynomial Case"
   ]
  },
  {
   "cell_type": "code",
   "execution_count": null,
   "id": "85f868b7",
   "metadata": {},
   "outputs": [],
   "source": [
    "from sklearn.preprocessing import PolynomialFeatures\n",
    "\n",
    "poly = PolynomialFeatures(2, include_bias=False)\n",
    "X_tr[:5], poly.fit_transform(X_tr, Y_tr).round(2)[:5]"
   ]
  },
  {
   "cell_type": "markdown",
   "id": "ea2bebe6",
   "metadata": {},
   "source": [
    "# Model 2: Adding Model Complexity"
   ]
  },
  {
   "cell_type": "code",
   "execution_count": null,
   "id": "a92d57ca",
   "metadata": {},
   "outputs": [],
   "source": [
    "model2 = Pipeline([\n",
    "    (\"scaler\", StandardScaler()),\n",
    "    (\"poly\", PolynomialFeatures(2, include_bias=False)),\n",
    "    (\"perceptron\", Perceptron(eta0=0.03))\n",
    "])\n",
    "model2.fit(X_tr, Y_tr)"
   ]
  },
  {
   "cell_type": "code",
   "execution_count": null,
   "id": "40bd9c2b",
   "metadata": {},
   "outputs": [],
   "source": [
    "print(\"Model 2\")\n",
    "print(\"Train:\", model2.score(X_tr, Y_tr))\n",
    "print(\"Val:\", model2.score(X_val, Y_val))\n",
    "fig, (ax1, ax2) = plt.subplots(ncols=2)\n",
    "plot_results(ax1, ax2, model2, train, val)"
   ]
  },
  {
   "cell_type": "markdown",
   "id": "414b999c",
   "metadata": {},
   "source": [
    "# Model 3: Overfitting"
   ]
  },
  {
   "cell_type": "code",
   "execution_count": null,
   "id": "9f6fe86a",
   "metadata": {},
   "outputs": [],
   "source": [
    "model3 = Pipeline([\n",
    "    (\"scaler\", StandardScaler()),\n",
    "    (\"poly\", PolynomialFeatures(8, include_bias=False)),\n",
    "    (\"perceptron\", Perceptron(eta0=0.03))\n",
    "])\n",
    "model3.fit(X_tr, Y_tr)"
   ]
  },
  {
   "cell_type": "code",
   "execution_count": null,
   "id": "d2143ffd",
   "metadata": {},
   "outputs": [],
   "source": [
    "print(\"Model 3\")\n",
    "print(\"Train:\", model3.score(X_tr, Y_tr))\n",
    "print(\"Val:\", model3.score(X_val, Y_val))\n",
    "fig, (ax1, ax2) = plt.subplots(ncols=2)\n",
    "plot_results(ax1, ax2, model3, train, val)"
   ]
  },
  {
   "cell_type": "markdown",
   "id": "b24a7e19",
   "metadata": {},
   "source": [
    "# Model 4: Regularization"
   ]
  },
  {
   "cell_type": "code",
   "execution_count": null,
   "id": "64f271e5",
   "metadata": {},
   "outputs": [],
   "source": [
    "model4 = Pipeline([\n",
    "    (\"scaler\", StandardScaler()),\n",
    "    (\"poly\", PolynomialFeatures(8, include_bias=False)),\n",
    "    (\"perceptron\", Perceptron(eta0=0.03, penalty=\"elasticnet\", alpha=1e-2))\n",
    "])\n",
    "model4.fit(X_tr, Y_tr)"
   ]
  },
  {
   "cell_type": "code",
   "execution_count": null,
   "id": "670dc7ca",
   "metadata": {},
   "outputs": [],
   "source": [
    "print(\"Model 4\")\n",
    "print(\"Train:\", model4.score(X_tr, Y_tr))\n",
    "print(\"Val:\", model4.score(X_val, Y_val))\n",
    "fig, (ax1, ax2) = plt.subplots(ncols=2)\n",
    "plot_results(ax1, ax2, model4, train, val)"
   ]
  },
  {
   "cell_type": "code",
   "execution_count": null,
   "id": "be55501d",
   "metadata": {},
   "outputs": [],
   "source": []
  }
 ],
 "metadata": {
  "kernelspec": {
   "display_name": "Python 3 (ipykernel)",
   "language": "python",
   "name": "python3"
  },
  "language_info": {
   "codemirror_mode": {
    "name": "ipython",
    "version": 3
   },
   "file_extension": ".py",
   "mimetype": "text/x-python",
   "name": "python",
   "nbconvert_exporter": "python",
   "pygments_lexer": "ipython3",
   "version": "3.9.12"
  }
 },
 "nbformat": 4,
 "nbformat_minor": 5
}
