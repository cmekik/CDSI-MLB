{
 "cells": [
  {
   "cell_type": "markdown",
   "id": "79f2f681",
   "metadata": {},
   "source": [
    "# Dataset"
   ]
  },
  {
   "cell_type": "code",
   "execution_count": 1,
   "id": "1289a45b",
   "metadata": {},
   "outputs": [],
   "source": [
    "from sklearn import datasets\n",
    "digits = datasets.load_digits(as_frame=True)\n",
    "df = digits.frame"
   ]
  },
  {
   "cell_type": "code",
   "execution_count": 2,
   "id": "6b795093",
   "metadata": {},
   "outputs": [
    {
     "name": "stdout",
     "output_type": "stream",
     "text": [
      "<class 'pandas.core.frame.DataFrame'>\n",
      "RangeIndex: 1797 entries, 0 to 1796\n",
      "Data columns (total 65 columns):\n",
      " #   Column     Non-Null Count  Dtype  \n",
      "---  ------     --------------  -----  \n",
      " 0   pixel_0_0  1797 non-null   float64\n",
      " 1   pixel_0_1  1797 non-null   float64\n",
      " 2   pixel_0_2  1797 non-null   float64\n",
      " 3   pixel_0_3  1797 non-null   float64\n",
      " 4   pixel_0_4  1797 non-null   float64\n",
      " 5   pixel_0_5  1797 non-null   float64\n",
      " 6   pixel_0_6  1797 non-null   float64\n",
      " 7   pixel_0_7  1797 non-null   float64\n",
      " 8   pixel_1_0  1797 non-null   float64\n",
      " 9   pixel_1_1  1797 non-null   float64\n",
      " 10  pixel_1_2  1797 non-null   float64\n",
      " 11  pixel_1_3  1797 non-null   float64\n",
      " 12  pixel_1_4  1797 non-null   float64\n",
      " 13  pixel_1_5  1797 non-null   float64\n",
      " 14  pixel_1_6  1797 non-null   float64\n",
      " 15  pixel_1_7  1797 non-null   float64\n",
      " 16  pixel_2_0  1797 non-null   float64\n",
      " 17  pixel_2_1  1797 non-null   float64\n",
      " 18  pixel_2_2  1797 non-null   float64\n",
      " 19  pixel_2_3  1797 non-null   float64\n",
      " 20  pixel_2_4  1797 non-null   float64\n",
      " 21  pixel_2_5  1797 non-null   float64\n",
      " 22  pixel_2_6  1797 non-null   float64\n",
      " 23  pixel_2_7  1797 non-null   float64\n",
      " 24  pixel_3_0  1797 non-null   float64\n",
      " 25  pixel_3_1  1797 non-null   float64\n",
      " 26  pixel_3_2  1797 non-null   float64\n",
      " 27  pixel_3_3  1797 non-null   float64\n",
      " 28  pixel_3_4  1797 non-null   float64\n",
      " 29  pixel_3_5  1797 non-null   float64\n",
      " 30  pixel_3_6  1797 non-null   float64\n",
      " 31  pixel_3_7  1797 non-null   float64\n",
      " 32  pixel_4_0  1797 non-null   float64\n",
      " 33  pixel_4_1  1797 non-null   float64\n",
      " 34  pixel_4_2  1797 non-null   float64\n",
      " 35  pixel_4_3  1797 non-null   float64\n",
      " 36  pixel_4_4  1797 non-null   float64\n",
      " 37  pixel_4_5  1797 non-null   float64\n",
      " 38  pixel_4_6  1797 non-null   float64\n",
      " 39  pixel_4_7  1797 non-null   float64\n",
      " 40  pixel_5_0  1797 non-null   float64\n",
      " 41  pixel_5_1  1797 non-null   float64\n",
      " 42  pixel_5_2  1797 non-null   float64\n",
      " 43  pixel_5_3  1797 non-null   float64\n",
      " 44  pixel_5_4  1797 non-null   float64\n",
      " 45  pixel_5_5  1797 non-null   float64\n",
      " 46  pixel_5_6  1797 non-null   float64\n",
      " 47  pixel_5_7  1797 non-null   float64\n",
      " 48  pixel_6_0  1797 non-null   float64\n",
      " 49  pixel_6_1  1797 non-null   float64\n",
      " 50  pixel_6_2  1797 non-null   float64\n",
      " 51  pixel_6_3  1797 non-null   float64\n",
      " 52  pixel_6_4  1797 non-null   float64\n",
      " 53  pixel_6_5  1797 non-null   float64\n",
      " 54  pixel_6_6  1797 non-null   float64\n",
      " 55  pixel_6_7  1797 non-null   float64\n",
      " 56  pixel_7_0  1797 non-null   float64\n",
      " 57  pixel_7_1  1797 non-null   float64\n",
      " 58  pixel_7_2  1797 non-null   float64\n",
      " 59  pixel_7_3  1797 non-null   float64\n",
      " 60  pixel_7_4  1797 non-null   float64\n",
      " 61  pixel_7_5  1797 non-null   float64\n",
      " 62  pixel_7_6  1797 non-null   float64\n",
      " 63  pixel_7_7  1797 non-null   float64\n",
      " 64  target     1797 non-null   int64  \n",
      "dtypes: float64(64), int64(1)\n",
      "memory usage: 912.7 KB\n"
     ]
    }
   ],
   "source": [
    "df.info()"
   ]
  },
  {
   "cell_type": "code",
   "execution_count": 3,
   "id": "47422b4e",
   "metadata": {},
   "outputs": [
    {
     "name": "stdout",
     "output_type": "stream",
     "text": [
      "<class 'pandas.core.frame.DataFrame'>\n",
      "Int64Index: 356 entries, 2 to 1785\n",
      "Data columns (total 65 columns):\n",
      " #   Column     Non-Null Count  Dtype  \n",
      "---  ------     --------------  -----  \n",
      " 0   pixel_0_0  356 non-null    float64\n",
      " 1   pixel_0_1  356 non-null    float64\n",
      " 2   pixel_0_2  356 non-null    float64\n",
      " 3   pixel_0_3  356 non-null    float64\n",
      " 4   pixel_0_4  356 non-null    float64\n",
      " 5   pixel_0_5  356 non-null    float64\n",
      " 6   pixel_0_6  356 non-null    float64\n",
      " 7   pixel_0_7  356 non-null    float64\n",
      " 8   pixel_1_0  356 non-null    float64\n",
      " 9   pixel_1_1  356 non-null    float64\n",
      " 10  pixel_1_2  356 non-null    float64\n",
      " 11  pixel_1_3  356 non-null    float64\n",
      " 12  pixel_1_4  356 non-null    float64\n",
      " 13  pixel_1_5  356 non-null    float64\n",
      " 14  pixel_1_6  356 non-null    float64\n",
      " 15  pixel_1_7  356 non-null    float64\n",
      " 16  pixel_2_0  356 non-null    float64\n",
      " 17  pixel_2_1  356 non-null    float64\n",
      " 18  pixel_2_2  356 non-null    float64\n",
      " 19  pixel_2_3  356 non-null    float64\n",
      " 20  pixel_2_4  356 non-null    float64\n",
      " 21  pixel_2_5  356 non-null    float64\n",
      " 22  pixel_2_6  356 non-null    float64\n",
      " 23  pixel_2_7  356 non-null    float64\n",
      " 24  pixel_3_0  356 non-null    float64\n",
      " 25  pixel_3_1  356 non-null    float64\n",
      " 26  pixel_3_2  356 non-null    float64\n",
      " 27  pixel_3_3  356 non-null    float64\n",
      " 28  pixel_3_4  356 non-null    float64\n",
      " 29  pixel_3_5  356 non-null    float64\n",
      " 30  pixel_3_6  356 non-null    float64\n",
      " 31  pixel_3_7  356 non-null    float64\n",
      " 32  pixel_4_0  356 non-null    float64\n",
      " 33  pixel_4_1  356 non-null    float64\n",
      " 34  pixel_4_2  356 non-null    float64\n",
      " 35  pixel_4_3  356 non-null    float64\n",
      " 36  pixel_4_4  356 non-null    float64\n",
      " 37  pixel_4_5  356 non-null    float64\n",
      " 38  pixel_4_6  356 non-null    float64\n",
      " 39  pixel_4_7  356 non-null    float64\n",
      " 40  pixel_5_0  356 non-null    float64\n",
      " 41  pixel_5_1  356 non-null    float64\n",
      " 42  pixel_5_2  356 non-null    float64\n",
      " 43  pixel_5_3  356 non-null    float64\n",
      " 44  pixel_5_4  356 non-null    float64\n",
      " 45  pixel_5_5  356 non-null    float64\n",
      " 46  pixel_5_6  356 non-null    float64\n",
      " 47  pixel_5_7  356 non-null    float64\n",
      " 48  pixel_6_0  356 non-null    float64\n",
      " 49  pixel_6_1  356 non-null    float64\n",
      " 50  pixel_6_2  356 non-null    float64\n",
      " 51  pixel_6_3  356 non-null    float64\n",
      " 52  pixel_6_4  356 non-null    float64\n",
      " 53  pixel_6_5  356 non-null    float64\n",
      " 54  pixel_6_6  356 non-null    float64\n",
      " 55  pixel_6_7  356 non-null    float64\n",
      " 56  pixel_7_0  356 non-null    float64\n",
      " 57  pixel_7_1  356 non-null    float64\n",
      " 58  pixel_7_2  356 non-null    float64\n",
      " 59  pixel_7_3  356 non-null    float64\n",
      " 60  pixel_7_4  356 non-null    float64\n",
      " 61  pixel_7_5  356 non-null    float64\n",
      " 62  pixel_7_6  356 non-null    float64\n",
      " 63  pixel_7_7  356 non-null    float64\n",
      " 64  target     356 non-null    int64  \n",
      "dtypes: float64(64), int64(1)\n",
      "memory usage: 183.6 KB\n"
     ]
    }
   ],
   "source": [
    "df = df.drop(df.loc[~df[\"target\"].isin([2, 7])].index)\n",
    "df.info()"
   ]
  },
  {
   "cell_type": "code",
   "execution_count": 4,
   "id": "0ff3f40d",
   "metadata": {},
   "outputs": [
    {
     "data": {
      "image/png": "[encoded data removed]",
      "text/plain": [
       "<Figure size 432x288 with 12 Axes>"
      ]
     },
     "metadata": {},
     "output_type": "display_data"
    }
   ],
   "source": [
    "import matplotlib.pyplot as plt\n",
    "\n",
    "pixels = [col for col in df.columns if col.startswith(\"pixel\")]\n",
    "sample = df.sample(12)\n",
    "\n",
    "fig, axs = plt.subplots(3, 4)\n",
    "for ax, index in zip(axs.flat, sample.index):\n",
    "    img = sample.loc[index, pixels].values.reshape((8, 8))\n",
    "    lbl = sample.loc[index, \"target\"]\n",
    "    ax.imshow(img, cmap=\"gray\")\n",
    "    ax.tick_params(\n",
    "        left=False,\n",
    "        bottom=False,\n",
    "        labelleft=False,\n",
    "        labelbottom=False)"
   ]
  },
  {
   "cell_type": "markdown",
   "id": "7f995c89",
   "metadata": {},
   "source": [
    "# Features"
   ]
  },
  {
   "cell_type": "code",
   "execution_count": 5,
   "id": "2552bfee",
   "metadata": {},
   "outputs": [
    {
     "name": "stdout",
     "output_type": "stream",
     "text": [
      "<class 'pandas.core.frame.DataFrame'>\n",
      "Int64Index: 356 entries, 2 to 1785\n",
      "Data columns (total 3 columns):\n",
      " #   Column     Non-Null Count  Dtype  \n",
      "---  ------     --------------  -----  \n",
      " 0   intensity  356 non-null    float64\n",
      " 1   symmetry   356 non-null    float64\n",
      " 2   label      356 non-null    int64  \n",
      "dtypes: float64(2), int64(1)\n",
      "memory usage: 11.1 KB\n"
     ]
    },
    {
     "data": {
      "text/html": [
       "<div>\n",
       "<style scoped>\n",
       "    .dataframe tbody tr th:only-of-type {\n",
       "        vertical-align: middle;\n",
       "    }\n",
       "\n",
       "    .dataframe tbody tr th {\n",
       "        vertical-align: top;\n",
       "    }\n",
       "\n",
       "    .dataframe thead th {\n",
       "        text-align: right;\n",
       "    }\n",
       "</style>\n",
       "<table border=\"1\" class=\"dataframe\">\n",
       "  <thead>\n",
       "    <tr style=\"text-align: right;\">\n",
       "      <th></th>\n",
       "      <th>intensity</th>\n",
       "      <th>symmetry</th>\n",
       "      <th>label</th>\n",
       "    </tr>\n",
       "  </thead>\n",
       "  <tbody>\n",
       "    <tr>\n",
       "      <th>1496</th>\n",
       "      <td>4.343750</td>\n",
       "      <td>3.93750</td>\n",
       "      <td>0</td>\n",
       "    </tr>\n",
       "    <tr>\n",
       "      <th>472</th>\n",
       "      <td>4.156250</td>\n",
       "      <td>4.37500</td>\n",
       "      <td>0</td>\n",
       "    </tr>\n",
       "    <tr>\n",
       "      <th>977</th>\n",
       "      <td>5.546875</td>\n",
       "      <td>3.34375</td>\n",
       "      <td>1</td>\n",
       "    </tr>\n",
       "    <tr>\n",
       "      <th>470</th>\n",
       "      <td>4.515625</td>\n",
       "      <td>3.40625</td>\n",
       "      <td>1</td>\n",
       "    </tr>\n",
       "    <tr>\n",
       "      <th>830</th>\n",
       "      <td>4.984375</td>\n",
       "      <td>2.96875</td>\n",
       "      <td>1</td>\n",
       "    </tr>\n",
       "    <tr>\n",
       "      <th>50</th>\n",
       "      <td>4.125000</td>\n",
       "      <td>3.18750</td>\n",
       "      <td>1</td>\n",
       "    </tr>\n",
       "    <tr>\n",
       "      <th>1016</th>\n",
       "      <td>4.921875</td>\n",
       "      <td>2.78125</td>\n",
       "      <td>1</td>\n",
       "    </tr>\n",
       "    <tr>\n",
       "      <th>1201</th>\n",
       "      <td>4.734375</td>\n",
       "      <td>4.59375</td>\n",
       "      <td>0</td>\n",
       "    </tr>\n",
       "    <tr>\n",
       "      <th>222</th>\n",
       "      <td>4.937500</td>\n",
       "      <td>5.18750</td>\n",
       "      <td>0</td>\n",
       "    </tr>\n",
       "    <tr>\n",
       "      <th>152</th>\n",
       "      <td>4.734375</td>\n",
       "      <td>3.03125</td>\n",
       "      <td>1</td>\n",
       "    </tr>\n",
       "  </tbody>\n",
       "</table>\n",
       "</div>"
      ],
      "text/plain": [
       "      intensity  symmetry  label\n",
       "1496   4.343750   3.93750      0\n",
       "472    4.156250   4.37500      0\n",
       "977    5.546875   3.34375      1\n",
       "470    4.515625   3.40625      1\n",
       "830    4.984375   2.96875      1\n",
       "50     4.125000   3.18750      1\n",
       "1016   4.921875   2.78125      1\n",
       "1201   4.734375   4.59375      0\n",
       "222    4.937500   5.18750      0\n",
       "152    4.734375   3.03125      1"
      ]
     },
     "execution_count": 5,
     "metadata": {},
     "output_type": "execute_result"
    }
   ],
   "source": [
    "import numpy as np\n",
    "\n",
    "def symmetry(flat_pixels):\n",
    "    img = flat_pixels.values.reshape((8, 8))\n",
    "    return abs(img[:4,:] - np.flip(img[4:, :], axis=0)).mean()\n",
    "    \n",
    "df[\"symmetry\"] = df[pixels].apply(symmetry, axis=\"columns\")\n",
    "df[\"intensity\"] = df[pixels].mean(axis=\"columns\")\n",
    "df[\"label\"] = (df[\"target\"] == 2).astype(int)\n",
    "\n",
    "df = df[[\"intensity\", \"symmetry\", \"label\"]]\n",
    "df.info()\n",
    "df.sample(10)"
   ]
  },
  {
   "cell_type": "code",
   "execution_count": 6,
   "id": "027bb1ac",
   "metadata": {},
   "outputs": [
    {
     "data": {
      "text/plain": [
       "<AxesSubplot:xlabel='Intensity', ylabel='Symmetry'>"
      ]
     },
     "execution_count": 6,
     "metadata": {},
     "output_type": "execute_result"
    },
    {
     "data": {
      "image/png": "[encoded data removed]",
      "text/plain": [
       "<Figure size 432x288 with 1 Axes>"
      ]
     },
     "metadata": {
      "needs_background": "light"
     },
     "output_type": "display_data"
    }
   ],
   "source": [
    "def plot_data(ax, df):\n",
    "    for name, data in df.groupby(\"label\"):\n",
    "        ax.scatter(\"intensity\", \"symmetry\", data=data, label=name)\n",
    "    ax.legend()\n",
    "    ax.set(xlabel=\"Intensity\", ylabel=\"Symmetry\")\n",
    "    return ax\n",
    "\n",
    "fix, ax = plt.subplots()\n",
    "plot_data(ax, df)"
   ]
  },
  {
   "cell_type": "markdown",
   "id": "0a4f08f6",
   "metadata": {},
   "source": [
    "# Random Seed"
   ]
  },
  {
   "cell_type": "code",
   "execution_count": 7,
   "id": "4e75dc69",
   "metadata": {},
   "outputs": [],
   "source": [
    "np.random.seed(934545)"
   ]
  },
  {
   "cell_type": "markdown",
   "id": "b0b41bce",
   "metadata": {},
   "source": [
    "# Train-Val Split"
   ]
  },
  {
   "cell_type": "code",
   "execution_count": 8,
   "id": "1b69ca39",
   "metadata": {},
   "outputs": [],
   "source": [
    "df = df.sample(frac=1).reset_index(drop=True)\n",
    "split = 260\n",
    "train, val = df.iloc[:split, :], df.iloc[split:, :]\n",
    "\n",
    "X_tr, Y_tr = train[[\"intensity\", \"symmetry\"]], train[\"label\"] \n",
    "X_val, Y_val = val[[\"intensity\", \"symmetry\"]], val[\"label\"]"
   ]
  },
  {
   "cell_type": "markdown",
   "id": "b85c428f",
   "metadata": {},
   "source": [
    "# Plotting Utilities"
   ]
  },
  {
   "cell_type": "code",
   "execution_count": 9,
   "id": "79f6fa45",
   "metadata": {},
   "outputs": [],
   "source": [
    "import pandas as pd\n",
    "\n",
    "def plot_decision_boundary(ax, m):\n",
    "    x_min, x_max = df[\"intensity\"].min() - 1, df[\"intensity\"].max() + 1\n",
    "    y_min, y_max = df[\"symmetry\"].min() - 1, df[\"symmetry\"].max() + 1\n",
    "    xx, yy = np.meshgrid(\n",
    "        np.arange(x_min, x_max, 0.01),\n",
    "        np.arange(y_min, y_max, 0.01))\n",
    "    dz = np.c_[xx.ravel(), yy.ravel()]\n",
    "    _df = pd.DataFrame({\n",
    "        \"intensity\": dz[:, 0],\n",
    "        \"symmetry\": dz[:, 1]\n",
    "    })\n",
    "    \n",
    "    Z = m.predict(_df).reshape(xx.shape)\n",
    "    ax.contourf(xx, yy, Z, alpha=0.2)\n",
    "    \n",
    "    return ax\n",
    "\n",
    "def plot_results(ax1, ax2, m, train, val):\n",
    "    plot_decision_boundary(ax1, m)\n",
    "    plot_decision_boundary(ax2, m)\n",
    "    plot_data(ax1, train)\n",
    "    plot_data(ax2, val)\n",
    "    return ax1, ax2"
   ]
  },
  {
   "cell_type": "markdown",
   "id": "0812dc07",
   "metadata": {},
   "source": [
    "# Model 1: A Simple Perceptron"
   ]
  },
  {
   "cell_type": "code",
   "execution_count": 10,
   "id": "d85d1dfc",
   "metadata": {},
   "outputs": [
    {
     "data": {
      "text/plain": [
       "Pipeline(steps=[('scaler', StandardScaler()),\n",
       "                ('perceptron', Perceptron(eta0=0.03))])"
      ]
     },
     "execution_count": 10,
     "metadata": {},
     "output_type": "execute_result"
    }
   ],
   "source": [
    "from sklearn.linear_model import Perceptron\n",
    "from sklearn.preprocessing import StandardScaler\n",
    "from sklearn.pipeline import Pipeline\n",
    "\n",
    "model = Pipeline([\n",
    "    (\"scaler\", StandardScaler()),\n",
    "    (\"perceptron\", Perceptron(eta0=0.03))\n",
    "])\n",
    "model.fit(X_tr, Y_tr)"
   ]
  },
  {
   "cell_type": "code",
   "execution_count": 11,
   "id": "3f69da27",
   "metadata": {},
   "outputs": [
    {
     "name": "stdout",
     "output_type": "stream",
     "text": [
      "Model 1\n",
      "Train: 0.7038461538461539\n",
      "Val: 0.78125\n"
     ]
    },
    {
     "data": {
      "text/plain": [
       "(<AxesSubplot:xlabel='Intensity', ylabel='Symmetry'>,\n",
       " <AxesSubplot:xlabel='Intensity', ylabel='Symmetry'>)"
      ]
     },
     "execution_count": 11,
     "metadata": {},
     "output_type": "execute_result"
    },
    {
     "data": {
      "image/png": "[encoded data removed]",
      "text/plain": [
       "<Figure size 432x288 with 2 Axes>"
      ]
     },
     "metadata": {
      "needs_background": "light"
     },
     "output_type": "display_data"
    }
   ],
   "source": [
    "print(\"Model 1\")\n",
    "print(\"Train:\", model.score(X_tr, Y_tr))\n",
    "print(\"Val:\", model.score(X_val, Y_val))\n",
    "fig, (ax1, ax2) = plt.subplots(ncols=2)\n",
    "plot_results(ax1, ax2, model, train, val)"
   ]
  },
  {
   "cell_type": "code",
   "execution_count": 12,
   "id": "eeb648f9",
   "metadata": {},
   "outputs": [
    {
     "data": {
      "text/plain": [
       "(array([[-0.03181273, -0.08389367]]), array([0.]))"
      ]
     },
     "execution_count": 12,
     "metadata": {},
     "output_type": "execute_result"
    }
   ],
   "source": [
    "model[1].coef_, model[1].intercept_"
   ]
  },
  {
   "cell_type": "markdown",
   "id": "34fe43ad",
   "metadata": {},
   "source": [
    "# Feature Tranfsorms: The Polynomial Case"
   ]
  },
  {
   "cell_type": "code",
   "execution_count": 13,
   "id": "85f868b7",
   "metadata": {},
   "outputs": [
    {
     "data": {
      "text/plain": [
       "(   intensity  symmetry\n",
       " 0   5.265625   5.03125\n",
       " 1   5.296875   3.71875\n",
       " 2   5.234375   4.21875\n",
       " 3   5.281250   2.81250\n",
       " 4   4.656250   3.00000,\n",
       " array([[ 5.27,  5.03, 27.73, 26.49, 25.31],\n",
       "        [ 5.3 ,  3.72, 28.06, 19.7 , 13.83],\n",
       "        [ 5.23,  4.22, 27.4 , 22.08, 17.8 ],\n",
       "        [ 5.28,  2.81, 27.89, 14.85,  7.91],\n",
       "        [ 4.66,  3.  , 21.68, 13.97,  9.  ]]))"
      ]
     },
     "execution_count": 13,
     "metadata": {},
     "output_type": "execute_result"
    }
   ],
   "source": [
    "from sklearn.preprocessing import PolynomialFeatures\n",
    "\n",
    "poly = PolynomialFeatures(2, include_bias=False)\n",
    "X_tr[:5], poly.fit_transform(X_tr, Y_tr).round(2)[:5]"
   ]
  },
  {
   "cell_type": "markdown",
   "id": "ea2bebe6",
   "metadata": {},
   "source": [
    "# Model 2: Adding Model Complexity"
   ]
  },
  {
   "cell_type": "code",
   "execution_count": 15,
   "id": "a92d57ca",
   "metadata": {},
   "outputs": [
    {
     "data": {
      "text/plain": [
       "Pipeline(steps=[('scaler', StandardScaler()),\n",
       "                ('poly', PolynomialFeatures(include_bias=False)),\n",
       "                ('perceptron', Perceptron(eta0=0.03))])"
      ]
     },
     "execution_count": 15,
     "metadata": {},
     "output_type": "execute_result"
    }
   ],
   "source": [
    "model2 = Pipeline([\n",
    "    (\"scaler\", StandardScaler()),\n",
    "    (\"poly\", PolynomialFeatures(2, include_bias=False)),\n",
    "    (\"perceptron\", Perceptron(eta0=0.03))\n",
    "])\n",
    "model2.fit(X_tr, Y_tr)"
   ]
  },
  {
   "cell_type": "code",
   "execution_count": 16,
   "id": "40bd9c2b",
   "metadata": {},
   "outputs": [
    {
     "name": "stdout",
     "output_type": "stream",
     "text": [
      "Model 2\n",
      "Train: 0.7576923076923077\n",
      "Val: 0.78125\n"
     ]
    },
    {
     "data": {
      "text/plain": [
       "(<AxesSubplot:xlabel='Intensity', ylabel='Symmetry'>,\n",
       " <AxesSubplot:xlabel='Intensity', ylabel='Symmetry'>)"
      ]
     },
     "execution_count": 16,
     "metadata": {},
     "output_type": "execute_result"
    },
    {
     "data": {
      "image/png": "[encoded data removed]",
      "text/plain": [
       "<Figure size 432x288 with 2 Axes>"
      ]
     },
     "metadata": {
      "needs_background": "light"
     },
     "output_type": "display_data"
    }
   ],
   "source": [
    "print(\"Model 2\")\n",
    "print(\"Train:\", model2.score(X_tr, Y_tr))\n",
    "print(\"Val:\", model2.score(X_val, Y_val))\n",
    "fig, (ax1, ax2) = plt.subplots(ncols=2)\n",
    "plot_results(ax1, ax2, model2, train, val)"
   ]
  },
  {
   "cell_type": "markdown",
   "id": "414b999c",
   "metadata": {},
   "source": [
    "# Model 3: Overfitting"
   ]
  },
  {
   "cell_type": "code",
   "execution_count": 17,
   "id": "9f6fe86a",
   "metadata": {},
   "outputs": [
    {
     "data": {
      "text/plain": [
       "Pipeline(steps=[('scaler', StandardScaler()),\n",
       "                ('poly', PolynomialFeatures(degree=8, include_bias=False)),\n",
       "                ('perceptron', Perceptron(eta0=0.03))])"
      ]
     },
     "execution_count": 17,
     "metadata": {},
     "output_type": "execute_result"
    }
   ],
   "source": [
    "model3 = Pipeline([\n",
    "    (\"scaler\", StandardScaler()),\n",
    "    (\"poly\", PolynomialFeatures(8, include_bias=False)),\n",
    "    (\"perceptron\", Perceptron(eta0=0.03))\n",
    "])\n",
    "model3.fit(X_tr, Y_tr)"
   ]
  },
  {
   "cell_type": "code",
   "execution_count": 18,
   "id": "d2143ffd",
   "metadata": {},
   "outputs": [
    {
     "name": "stdout",
     "output_type": "stream",
     "text": [
      "Model 3\n",
      "Train: 0.7269230769230769\n",
      "Val: 0.7395833333333334\n"
     ]
    },
    {
     "data": {
      "text/plain": [
       "(<AxesSubplot:xlabel='Intensity', ylabel='Symmetry'>,\n",
       " <AxesSubplot:xlabel='Intensity', ylabel='Symmetry'>)"
      ]
     },
     "execution_count": 18,
     "metadata": {},
     "output_type": "execute_result"
    },
    {
     "data": {
      "image/png": "[encoded data removed]",
      "text/plain": [
       "<Figure size 432x288 with 2 Axes>"
      ]
     },
     "metadata": {
      "needs_background": "light"
     },
     "output_type": "display_data"
    }
   ],
   "source": [
    "print(\"Model 3\")\n",
    "print(\"Train:\", model3.score(X_tr, Y_tr))\n",
    "print(\"Val:\", model3.score(X_val, Y_val))\n",
    "fig, (ax1, ax2) = plt.subplots(ncols=2)\n",
    "plot_results(ax1, ax2, model3, train, val)"
   ]
  },
  {
   "cell_type": "markdown",
   "id": "b24a7e19",
   "metadata": {},
   "source": [
    "# Model 4: Regularization"
   ]
  },
  {
   "cell_type": "code",
   "execution_count": 19,
   "id": "64f271e5",
   "metadata": {},
   "outputs": [
    {
     "data": {
      "text/plain": [
       "Pipeline(steps=[('scaler', StandardScaler()),\n",
       "                ('poly', PolynomialFeatures(degree=8, include_bias=False)),\n",
       "                ('perceptron',\n",
       "                 Perceptron(alpha=0.01, eta0=0.03, penalty='elasticnet'))])"
      ]
     },
     "execution_count": 19,
     "metadata": {},
     "output_type": "execute_result"
    }
   ],
   "source": [
    "model4 = Pipeline([\n",
    "    (\"scaler\", StandardScaler()),\n",
    "    (\"poly\", PolynomialFeatures(8, include_bias=False)),\n",
    "    (\"perceptron\", Perceptron(eta0=0.03, penalty=\"elasticnet\", alpha=1e-2))\n",
    "])\n",
    "model4.fit(X_tr, Y_tr)"
   ]
  },
  {
   "cell_type": "code",
   "execution_count": 20,
   "id": "670dc7ca",
   "metadata": {},
   "outputs": [
    {
     "name": "stdout",
     "output_type": "stream",
     "text": [
      "Model 4\n",
      "Train: 0.7923076923076923\n",
      "Val: 0.8125\n"
     ]
    },
    {
     "data": {
      "text/plain": [
       "(<AxesSubplot:xlabel='Intensity', ylabel='Symmetry'>,\n",
       " <AxesSubplot:xlabel='Intensity', ylabel='Symmetry'>)"
      ]
     },
     "execution_count": 20,
     "metadata": {},
     "output_type": "execute_result"
    },
    {
     "data": {
      "image/png": "[encoded data removed]",
      "text/plain": [
       "<Figure size 432x288 with 2 Axes>"
      ]
     },
     "metadata": {
      "needs_background": "light"
     },
     "output_type": "display_data"
    }
   ],
   "source": [
    "print(\"Model 4\")\n",
    "print(\"Train:\", model4.score(X_tr, Y_tr))\n",
    "print(\"Val:\", model4.score(X_val, Y_val))\n",
    "fig, (ax1, ax2) = plt.subplots(ncols=2)\n",
    "plot_results(ax1, ax2, model4, train, val)"
   ]
  },
  {
   "cell_type": "code",
   "execution_count": null,
   "id": "be55501d",
   "metadata": {},
   "outputs": [],
   "source": []
  }
 ],
 "metadata": {
  "kernelspec": {
   "display_name": "Python 3 (ipykernel)",
   "language": "python",
   "name": "python3"
  },
  "language_info": {
   "codemirror_mode": {
    "name": "ipython",
    "version": 3
   },
   "file_extension": ".py",
   "mimetype": "text/x-python",
   "name": "python",
   "nbconvert_exporter": "python",
   "pygments_lexer": "ipython3",
   "version": "3.9.12"
  }
 },
 "nbformat": 4,
 "nbformat_minor": 5
}
