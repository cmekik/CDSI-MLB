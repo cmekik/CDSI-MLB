{
 "cells": [
  {
   "cell_type": "markdown",
   "id": "79f2f681",
   "metadata": {},
   "source": [
    "# Dataset"
   ]
  },
  {
   "cell_type": "code",
   "execution_count": 1,
   "id": "1289a45b",
   "metadata": {},
   "outputs": [],
   "source": [
    "from sklearn import datasets\n",
    "digits = datasets.load_digits(as_frame=True)\n",
    "df = digits.frame"
   ]
  },
  {
   "cell_type": "code",
   "execution_count": 2,
   "id": "6b795093",
   "metadata": {},
   "outputs": [
    {
     "name": "stdout",
     "output_type": "stream",
     "text": [
      "<class 'pandas.core.frame.DataFrame'>\n",
      "RangeIndex: 1797 entries, 0 to 1796\n",
      "Data columns (total 65 columns):\n",
      " #   Column     Non-Null Count  Dtype  \n",
      "---  ------     --------------  -----  \n",
      " 0   pixel_0_0  1797 non-null   float64\n",
      " 1   pixel_0_1  1797 non-null   float64\n",
      " 2   pixel_0_2  1797 non-null   float64\n",
      " 3   pixel_0_3  1797 non-null   float64\n",
      " 4   pixel_0_4  1797 non-null   float64\n",
      " 5   pixel_0_5  1797 non-null   float64\n",
      " 6   pixel_0_6  1797 non-null   float64\n",
      " 7   pixel_0_7  1797 non-null   float64\n",
      " 8   pixel_1_0  1797 non-null   float64\n",
      " 9   pixel_1_1  1797 non-null   float64\n",
      " 10  pixel_1_2  1797 non-null   float64\n",
      " 11  pixel_1_3  1797 non-null   float64\n",
      " 12  pixel_1_4  1797 non-null   float64\n",
      " 13  pixel_1_5  1797 non-null   float64\n",
      " 14  pixel_1_6  1797 non-null   float64\n",
      " 15  pixel_1_7  1797 non-null   float64\n",
      " 16  pixel_2_0  1797 non-null   float64\n",
      " 17  pixel_2_1  1797 non-null   float64\n",
      " 18  pixel_2_2  1797 non-null   float64\n",
      " 19  pixel_2_3  1797 non-null   float64\n",
      " 20  pixel_2_4  1797 non-null   float64\n",
      " 21  pixel_2_5  1797 non-null   float64\n",
      " 22  pixel_2_6  1797 non-null   float64\n",
      " 23  pixel_2_7  1797 non-null   float64\n",
      " 24  pixel_3_0  1797 non-null   float64\n",
      " 25  pixel_3_1  1797 non-null   float64\n",
      " 26  pixel_3_2  1797 non-null   float64\n",
      " 27  pixel_3_3  1797 non-null   float64\n",
      " 28  pixel_3_4  1797 non-null   float64\n",
      " 29  pixel_3_5  1797 non-null   float64\n",
      " 30  pixel_3_6  1797 non-null   float64\n",
      " 31  pixel_3_7  1797 non-null   float64\n",
      " 32  pixel_4_0  1797 non-null   float64\n",
      " 33  pixel_4_1  1797 non-null   float64\n",
      " 34  pixel_4_2  1797 non-null   float64\n",
      " 35  pixel_4_3  1797 non-null   float64\n",
      " 36  pixel_4_4  1797 non-null   float64\n",
      " 37  pixel_4_5  1797 non-null   float64\n",
      " 38  pixel_4_6  1797 non-null   float64\n",
      " 39  pixel_4_7  1797 non-null   float64\n",
      " 40  pixel_5_0  1797 non-null   float64\n",
      " 41  pixel_5_1  1797 non-null   float64\n",
      " 42  pixel_5_2  1797 non-null   float64\n",
      " 43  pixel_5_3  1797 non-null   float64\n",
      " 44  pixel_5_4  1797 non-null   float64\n",
      " 45  pixel_5_5  1797 non-null   float64\n",
      " 46  pixel_5_6  1797 non-null   float64\n",
      " 47  pixel_5_7  1797 non-null   float64\n",
      " 48  pixel_6_0  1797 non-null   float64\n",
      " 49  pixel_6_1  1797 non-null   float64\n",
      " 50  pixel_6_2  1797 non-null   float64\n",
      " 51  pixel_6_3  1797 non-null   float64\n",
      " 52  pixel_6_4  1797 non-null   float64\n",
      " 53  pixel_6_5  1797 non-null   float64\n",
      " 54  pixel_6_6  1797 non-null   float64\n",
      " 55  pixel_6_7  1797 non-null   float64\n",
      " 56  pixel_7_0  1797 non-null   float64\n",
      " 57  pixel_7_1  1797 non-null   float64\n",
      " 58  pixel_7_2  1797 non-null   float64\n",
      " 59  pixel_7_3  1797 non-null   float64\n",
      " 60  pixel_7_4  1797 non-null   float64\n",
      " 61  pixel_7_5  1797 non-null   float64\n",
      " 62  pixel_7_6  1797 non-null   float64\n",
      " 63  pixel_7_7  1797 non-null   float64\n",
      " 64  target     1797 non-null   int64  \n",
      "dtypes: float64(64), int64(1)\n",
      "memory usage: 912.7 KB\n"
     ]
    }
   ],
   "source": [
    "df.info()"
   ]
  },
  {
   "cell_type": "code",
   "execution_count": 3,
   "id": "47422b4e",
   "metadata": {},
   "outputs": [
    {
     "name": "stdout",
     "output_type": "stream",
     "text": [
      "<class 'pandas.core.frame.DataFrame'>\n",
      "Int64Index: 356 entries, 2 to 1785\n",
      "Data columns (total 65 columns):\n",
      " #   Column     Non-Null Count  Dtype  \n",
      "---  ------     --------------  -----  \n",
      " 0   pixel_0_0  356 non-null    float64\n",
      " 1   pixel_0_1  356 non-null    float64\n",
      " 2   pixel_0_2  356 non-null    float64\n",
      " 3   pixel_0_3  356 non-null    float64\n",
      " 4   pixel_0_4  356 non-null    float64\n",
      " 5   pixel_0_5  356 non-null    float64\n",
      " 6   pixel_0_6  356 non-null    float64\n",
      " 7   pixel_0_7  356 non-null    float64\n",
      " 8   pixel_1_0  356 non-null    float64\n",
      " 9   pixel_1_1  356 non-null    float64\n",
      " 10  pixel_1_2  356 non-null    float64\n",
      " 11  pixel_1_3  356 non-null    float64\n",
      " 12  pixel_1_4  356 non-null    float64\n",
      " 13  pixel_1_5  356 non-null    float64\n",
      " 14  pixel_1_6  356 non-null    float64\n",
      " 15  pixel_1_7  356 non-null    float64\n",
      " 16  pixel_2_0  356 non-null    float64\n",
      " 17  pixel_2_1  356 non-null    float64\n",
      " 18  pixel_2_2  356 non-null    float64\n",
      " 19  pixel_2_3  356 non-null    float64\n",
      " 20  pixel_2_4  356 non-null    float64\n",
      " 21  pixel_2_5  356 non-null    float64\n",
      " 22  pixel_2_6  356 non-null    float64\n",
      " 23  pixel_2_7  356 non-null    float64\n",
      " 24  pixel_3_0  356 non-null    float64\n",
      " 25  pixel_3_1  356 non-null    float64\n",
      " 26  pixel_3_2  356 non-null    float64\n",
      " 27  pixel_3_3  356 non-null    float64\n",
      " 28  pixel_3_4  356 non-null    float64\n",
      " 29  pixel_3_5  356 non-null    float64\n",
      " 30  pixel_3_6  356 non-null    float64\n",
      " 31  pixel_3_7  356 non-null    float64\n",
      " 32  pixel_4_0  356 non-null    float64\n",
      " 33  pixel_4_1  356 non-null    float64\n",
      " 34  pixel_4_2  356 non-null    float64\n",
      " 35  pixel_4_3  356 non-null    float64\n",
      " 36  pixel_4_4  356 non-null    float64\n",
      " 37  pixel_4_5  356 non-null    float64\n",
      " 38  pixel_4_6  356 non-null    float64\n",
      " 39  pixel_4_7  356 non-null    float64\n",
      " 40  pixel_5_0  356 non-null    float64\n",
      " 41  pixel_5_1  356 non-null    float64\n",
      " 42  pixel_5_2  356 non-null    float64\n",
      " 43  pixel_5_3  356 non-null    float64\n",
      " 44  pixel_5_4  356 non-null    float64\n",
      " 45  pixel_5_5  356 non-null    float64\n",
      " 46  pixel_5_6  356 non-null    float64\n",
      " 47  pixel_5_7  356 non-null    float64\n",
      " 48  pixel_6_0  356 non-null    float64\n",
      " 49  pixel_6_1  356 non-null    float64\n",
      " 50  pixel_6_2  356 non-null    float64\n",
      " 51  pixel_6_3  356 non-null    float64\n",
      " 52  pixel_6_4  356 non-null    float64\n",
      " 53  pixel_6_5  356 non-null    float64\n",
      " 54  pixel_6_6  356 non-null    float64\n",
      " 55  pixel_6_7  356 non-null    float64\n",
      " 56  pixel_7_0  356 non-null    float64\n",
      " 57  pixel_7_1  356 non-null    float64\n",
      " 58  pixel_7_2  356 non-null    float64\n",
      " 59  pixel_7_3  356 non-null    float64\n",
      " 60  pixel_7_4  356 non-null    float64\n",
      " 61  pixel_7_5  356 non-null    float64\n",
      " 62  pixel_7_6  356 non-null    float64\n",
      " 63  pixel_7_7  356 non-null    float64\n",
      " 64  target     356 non-null    int64  \n",
      "dtypes: float64(64), int64(1)\n",
      "memory usage: 183.6 KB\n"
     ]
    }
   ],
   "source": [
    "df = df.drop(df.loc[~df[\"target\"].isin([2, 7])].index)\n",
    "df.info()"
   ]
  },
  {
   "cell_type": "code",
   "execution_count": 4,
   "id": "0ff3f40d",
   "metadata": {},
   "outputs": [
    {
     "data": {
      "image/png": "[encoded data removed]",
      "text/plain": [
       "<Figure size 432x288 with 12 Axes>"
      ]
     },
     "metadata": {},
     "output_type": "display_data"
    }
   ],
   "source": [
    "import matplotlib.pyplot as plt\n",
    "\n",
    "pixels = [col for col in df.columns if col.startswith(\"pixel\")]\n",
    "sample = df.sample(12)\n",
    "\n",
    "fig, axs = plt.subplots(3, 4)\n",
    "for ax, index in zip(axs.flat, sample.index):\n",
    "    img = sample.loc[index, pixels].values.reshape((8, 8))\n",
    "    lbl = sample.loc[index, \"target\"]\n",
    "    ax.imshow(img, cmap=\"gray\")\n",
    "    ax.tick_params(\n",
    "        left=False,\n",
    "        bottom=False,\n",
    "        labelleft=False,\n",
    "        labelbottom=False)"
   ]
  },
  {
   "cell_type": "markdown",
   "id": "7f995c89",
   "metadata": {},
   "source": [
    "# Features"
   ]
  },
  {
   "cell_type": "code",
   "execution_count": 5,
   "id": "2552bfee",
   "metadata": {},
   "outputs": [
    {
     "name": "stdout",
     "output_type": "stream",
     "text": [
      "<class 'pandas.core.frame.DataFrame'>\n",
      "Int64Index: 356 entries, 2 to 1785\n",
      "Data columns (total 3 columns):\n",
      " #   Column     Non-Null Count  Dtype  \n",
      "---  ------     --------------  -----  \n",
      " 0   intensity  356 non-null    float64\n",
      " 1   symmetry   356 non-null    float64\n",
      " 2   label      356 non-null    int64  \n",
      "dtypes: float64(2), int64(1)\n",
      "memory usage: 11.1 KB\n"
     ]
    },
    {
     "data": {
      "text/html": [
       "<div>\n",
       "<style scoped>\n",
       "    .dataframe tbody tr th:only-of-type {\n",
       "        vertical-align: middle;\n",
       "    }\n",
       "\n",
       "    .dataframe tbody tr th {\n",
       "        vertical-align: top;\n",
       "    }\n",
       "\n",
       "    .dataframe thead th {\n",
       "        text-align: right;\n",
       "    }\n",
       "</style>\n",
       "<table border=\"1\" class=\"dataframe\">\n",
       "  <thead>\n",
       "    <tr style=\"text-align: right;\">\n",
       "      <th></th>\n",
       "      <th>intensity</th>\n",
       "      <th>symmetry</th>\n",
       "      <th>label</th>\n",
       "    </tr>\n",
       "  </thead>\n",
       "  <tbody>\n",
       "    <tr>\n",
       "      <th>949</th>\n",
       "      <td>4.468750</td>\n",
       "      <td>4.18750</td>\n",
       "      <td>0</td>\n",
       "    </tr>\n",
       "    <tr>\n",
       "      <th>1492</th>\n",
       "      <td>5.125000</td>\n",
       "      <td>4.00000</td>\n",
       "      <td>1</td>\n",
       "    </tr>\n",
       "    <tr>\n",
       "      <th>1348</th>\n",
       "      <td>5.375000</td>\n",
       "      <td>4.12500</td>\n",
       "      <td>0</td>\n",
       "    </tr>\n",
       "    <tr>\n",
       "      <th>1403</th>\n",
       "      <td>5.156250</td>\n",
       "      <td>4.18750</td>\n",
       "      <td>1</td>\n",
       "    </tr>\n",
       "    <tr>\n",
       "      <th>857</th>\n",
       "      <td>3.718750</td>\n",
       "      <td>2.87500</td>\n",
       "      <td>0</td>\n",
       "    </tr>\n",
       "    <tr>\n",
       "      <th>1373</th>\n",
       "      <td>4.015625</td>\n",
       "      <td>4.28125</td>\n",
       "      <td>0</td>\n",
       "    </tr>\n",
       "    <tr>\n",
       "      <th>1499</th>\n",
       "      <td>4.656250</td>\n",
       "      <td>3.00000</td>\n",
       "      <td>1</td>\n",
       "    </tr>\n",
       "    <tr>\n",
       "      <th>1140</th>\n",
       "      <td>4.906250</td>\n",
       "      <td>4.00000</td>\n",
       "      <td>1</td>\n",
       "    </tr>\n",
       "    <tr>\n",
       "      <th>1368</th>\n",
       "      <td>4.875000</td>\n",
       "      <td>4.75000</td>\n",
       "      <td>0</td>\n",
       "    </tr>\n",
       "    <tr>\n",
       "      <th>727</th>\n",
       "      <td>4.765625</td>\n",
       "      <td>3.96875</td>\n",
       "      <td>0</td>\n",
       "    </tr>\n",
       "  </tbody>\n",
       "</table>\n",
       "</div>"
      ],
      "text/plain": [
       "      intensity  symmetry  label\n",
       "949    4.468750   4.18750      0\n",
       "1492   5.125000   4.00000      1\n",
       "1348   5.375000   4.12500      0\n",
       "1403   5.156250   4.18750      1\n",
       "857    3.718750   2.87500      0\n",
       "1373   4.015625   4.28125      0\n",
       "1499   4.656250   3.00000      1\n",
       "1140   4.906250   4.00000      1\n",
       "1368   4.875000   4.75000      0\n",
       "727    4.765625   3.96875      0"
      ]
     },
     "execution_count": 5,
     "metadata": {},
     "output_type": "execute_result"
    }
   ],
   "source": [
    "import numpy as np\n",
    "\n",
    "def symmetry(flat_pixels):\n",
    "    img = flat_pixels.values.reshape((8, 8))\n",
    "    return abs(img[:4,:] - np.flip(img[4:, :], axis=0)).mean()\n",
    "    \n",
    "df[\"symmetry\"] = df[pixels].apply(symmetry, axis=\"columns\")\n",
    "df[\"intensity\"] = df[pixels].mean(axis=\"columns\")\n",
    "df[\"label\"] = (df[\"target\"] == 2).astype(int)\n",
    "\n",
    "df = df[[\"intensity\", \"symmetry\", \"label\"]]\n",
    "df.info()\n",
    "df.sample(10)"
   ]
  },
  {
   "cell_type": "code",
   "execution_count": 6,
   "id": "027bb1ac",
   "metadata": {},
   "outputs": [
    {
     "data": {
      "text/plain": [
       "<AxesSubplot:xlabel='Intensity', ylabel='Symmetry'>"
      ]
     },
     "execution_count": 6,
     "metadata": {},
     "output_type": "execute_result"
    },
    {
     "data": {
      "image/png": "[encoded data removed]",
      "text/plain": [
       "<Figure size 432x288 with 1 Axes>"
      ]
     },
     "metadata": {
      "needs_background": "light"
     },
     "output_type": "display_data"
    }
   ],
   "source": [
    "def plot_data(ax, df):\n",
    "    for name, data in df.groupby(\"label\"):\n",
    "        ax.scatter(\"intensity\", \"symmetry\", data=data, label=name)\n",
    "    ax.legend()\n",
    "    ax.set(xlabel=\"Intensity\", ylabel=\"Symmetry\")\n",
    "    return ax\n",
    "\n",
    "fix, ax = plt.subplots()\n",
    "plot_data(ax, df)"
   ]
  },
  {
   "cell_type": "markdown",
   "id": "0a4f08f6",
   "metadata": {},
   "source": [
    "# Random Seed"
   ]
  },
  {
   "cell_type": "code",
   "execution_count": 7,
   "id": "4e75dc69",
   "metadata": {},
   "outputs": [],
   "source": [
    "np.random.seed(934545)"
   ]
  },
  {
   "cell_type": "markdown",
   "id": "2e7a4e8d",
   "metadata": {},
   "source": [
    "# Part 1"
   ]
  },
  {
   "cell_type": "markdown",
   "id": "b0b41bce",
   "metadata": {},
   "source": [
    "## Train-Val Split"
   ]
  },
  {
   "cell_type": "code",
   "execution_count": 8,
   "id": "1b69ca39",
   "metadata": {},
   "outputs": [],
   "source": [
    "df = df.sample(frac=1).reset_index(drop=True)\n",
    "split = 260\n",
    "train, val = df.iloc[:split, :], df.iloc[split:, :]\n",
    "\n",
    "X_tr, Y_tr = train[[\"intensity\", \"symmetry\"]], train[\"label\"] \n",
    "X_val, Y_val = val[[\"intensity\", \"symmetry\"]], val[\"label\"]"
   ]
  },
  {
   "cell_type": "markdown",
   "id": "b85c428f",
   "metadata": {},
   "source": [
    "## Plotting Utilities"
   ]
  },
  {
   "cell_type": "code",
   "execution_count": 9,
   "id": "79f6fa45",
   "metadata": {},
   "outputs": [],
   "source": [
    "import pandas as pd\n",
    "\n",
    "def plot_decision_boundary(ax, m):\n",
    "    x_min, x_max = df[\"intensity\"].min() - 1, df[\"intensity\"].max() + 1\n",
    "    y_min, y_max = df[\"symmetry\"].min() - 1, df[\"symmetry\"].max() + 1\n",
    "    xx, yy = np.meshgrid(\n",
    "        np.arange(x_min, x_max, 0.01),\n",
    "        np.arange(y_min, y_max, 0.01))\n",
    "    dz = np.c_[xx.ravel(), yy.ravel()]\n",
    "    _df = pd.DataFrame({\n",
    "        \"intensity\": dz[:, 0],\n",
    "        \"symmetry\": dz[:, 1]\n",
    "    })\n",
    "    \n",
    "    Z = m.predict(_df).reshape(xx.shape)\n",
    "    ax.contourf(xx, yy, Z, alpha=0.2)\n",
    "    \n",
    "    return ax\n",
    "\n",
    "def plot_results(ax1, ax2, m, train, val):\n",
    "    plot_decision_boundary(ax1, m)\n",
    "    plot_decision_boundary(ax2, m)\n",
    "    plot_data(ax1, train)\n",
    "    plot_data(ax2, val)\n",
    "    return ax1, ax2"
   ]
  },
  {
   "cell_type": "markdown",
   "id": "0812dc07",
   "metadata": {},
   "source": [
    "## Model 1: A Simple Perceptron"
   ]
  },
  {
   "cell_type": "code",
   "execution_count": 10,
   "id": "d85d1dfc",
   "metadata": {},
   "outputs": [
    {
     "data": {
      "text/plain": [
       "Pipeline(steps=[('scaler', StandardScaler()),\n",
       "                ('perceptron', Perceptron(eta0=0.003))])"
      ]
     },
     "execution_count": 10,
     "metadata": {},
     "output_type": "execute_result"
    }
   ],
   "source": [
    "from sklearn.linear_model import Perceptron\n",
    "from sklearn.preprocessing import StandardScaler\n",
    "from sklearn.pipeline import Pipeline\n",
    "\n",
    "model = Pipeline([\n",
    "    (\"scaler\", StandardScaler()),\n",
    "    (\"perceptron\", Perceptron(eta0=0.003))\n",
    "])\n",
    "model.fit(X_tr, Y_tr)"
   ]
  },
  {
   "cell_type": "code",
   "execution_count": 11,
   "id": "3f69da27",
   "metadata": {},
   "outputs": [
    {
     "name": "stdout",
     "output_type": "stream",
     "text": [
      "Model 1\n",
      "Train: 0.7423076923076923\n",
      "Val: 0.7604166666666666\n"
     ]
    },
    {
     "data": {
      "text/plain": [
       "(<AxesSubplot:xlabel='Intensity', ylabel='Symmetry'>,\n",
       " <AxesSubplot:xlabel='Intensity', ylabel='Symmetry'>)"
      ]
     },
     "execution_count": 11,
     "metadata": {},
     "output_type": "execute_result"
    },
    {
     "data": {
      "image/png": "[encoded data removed]",
      "text/plain": [
       "<Figure size 432x288 with 2 Axes>"
      ]
     },
     "metadata": {
      "needs_background": "light"
     },
     "output_type": "display_data"
    }
   ],
   "source": [
    "print(\"Model 1\")\n",
    "print(\"Train:\", model.score(X_tr, Y_tr))\n",
    "print(\"Val:\", model.score(X_val, Y_val))\n",
    "fig, (ax1, ax2) = plt.subplots(ncols=2)\n",
    "plot_results(ax1, ax2, model, train, val)"
   ]
  },
  {
   "cell_type": "code",
   "execution_count": 12,
   "id": "eeb648f9",
   "metadata": {},
   "outputs": [
    {
     "data": {
      "text/plain": [
       "(array([[ 0.00402668, -0.00447418]]), array([-0.003]))"
      ]
     },
     "execution_count": 12,
     "metadata": {},
     "output_type": "execute_result"
    }
   ],
   "source": [
    "model[1].coef_, model[1].intercept_"
   ]
  },
  {
   "cell_type": "markdown",
   "id": "34fe43ad",
   "metadata": {},
   "source": [
    "## Feature Tranfsorms: The Polynomial Case"
   ]
  },
  {
   "cell_type": "code",
   "execution_count": 13,
   "id": "85f868b7",
   "metadata": {},
   "outputs": [
    {
     "data": {
      "text/plain": [
       "(   intensity  symmetry\n",
       " 0   5.265625   5.03125\n",
       " 1   5.296875   3.71875\n",
       " 2   5.234375   4.21875\n",
       " 3   5.281250   2.81250\n",
       " 4   4.656250   3.00000,\n",
       " array([[ 5.27,  5.03, 27.73, 26.49, 25.31],\n",
       "        [ 5.3 ,  3.72, 28.06, 19.7 , 13.83],\n",
       "        [ 5.23,  4.22, 27.4 , 22.08, 17.8 ],\n",
       "        [ 5.28,  2.81, 27.89, 14.85,  7.91],\n",
       "        [ 4.66,  3.  , 21.68, 13.97,  9.  ]]))"
      ]
     },
     "execution_count": 13,
     "metadata": {},
     "output_type": "execute_result"
    }
   ],
   "source": [
    "from sklearn.preprocessing import PolynomialFeatures\n",
    "\n",
    "poly = PolynomialFeatures(2, include_bias=False)\n",
    "X_tr[:5], poly.fit_transform(X_tr, Y_tr).round(2)[:5]"
   ]
  },
  {
   "cell_type": "markdown",
   "id": "ea2bebe6",
   "metadata": {},
   "source": [
    "## Model 2: Adding Model Complexity"
   ]
  },
  {
   "cell_type": "code",
   "execution_count": 14,
   "id": "a92d57ca",
   "metadata": {},
   "outputs": [
    {
     "data": {
      "text/plain": [
       "Pipeline(steps=[('scaler', StandardScaler()),\n",
       "                ('poly', PolynomialFeatures(include_bias=False)),\n",
       "                ('perceptron', Perceptron(eta0=0.003))])"
      ]
     },
     "execution_count": 14,
     "metadata": {},
     "output_type": "execute_result"
    }
   ],
   "source": [
    "model2 = Pipeline([\n",
    "    (\"scaler\", StandardScaler()),\n",
    "    (\"poly\", PolynomialFeatures(2, include_bias=False)),\n",
    "    (\"perceptron\", Perceptron(eta0=0.003))\n",
    "])\n",
    "model2.fit(X_tr, Y_tr)"
   ]
  },
  {
   "cell_type": "code",
   "execution_count": 15,
   "id": "40bd9c2b",
   "metadata": {},
   "outputs": [
    {
     "name": "stdout",
     "output_type": "stream",
     "text": [
      "Model 2\n",
      "Train: 0.8115384615384615\n",
      "Val: 0.8125\n"
     ]
    },
    {
     "data": {
      "text/plain": [
       "(<AxesSubplot:xlabel='Intensity', ylabel='Symmetry'>,\n",
       " <AxesSubplot:xlabel='Intensity', ylabel='Symmetry'>)"
      ]
     },
     "execution_count": 15,
     "metadata": {},
     "output_type": "execute_result"
    },
    {
     "data": {
      "image/png": "[encoded data removed]",
      "text/plain": [
       "<Figure size 432x288 with 2 Axes>"
      ]
     },
     "metadata": {
      "needs_background": "light"
     },
     "output_type": "display_data"
    }
   ],
   "source": [
    "print(\"Model 2\")\n",
    "print(\"Train:\", model2.score(X_tr, Y_tr))\n",
    "print(\"Val:\", model2.score(X_val, Y_val))\n",
    "fig, (ax1, ax2) = plt.subplots(ncols=2)\n",
    "plot_results(ax1, ax2, model2, train, val)"
   ]
  },
  {
   "cell_type": "markdown",
   "id": "414b999c",
   "metadata": {},
   "source": [
    "## Model 3: Overfitting"
   ]
  },
  {
   "cell_type": "code",
   "execution_count": 16,
   "id": "9f6fe86a",
   "metadata": {},
   "outputs": [
    {
     "data": {
      "text/plain": [
       "Pipeline(steps=[('scaler', StandardScaler()),\n",
       "                ('poly', PolynomialFeatures(degree=8, include_bias=False)),\n",
       "                ('perceptron', Perceptron(eta0=0.003))])"
      ]
     },
     "execution_count": 16,
     "metadata": {},
     "output_type": "execute_result"
    }
   ],
   "source": [
    "model3 = Pipeline([\n",
    "    (\"scaler\", StandardScaler()),\n",
    "    (\"poly\", PolynomialFeatures(8, include_bias=False)),\n",
    "    (\"perceptron\", Perceptron(eta0=0.003))\n",
    "])\n",
    "model3.fit(X_tr, Y_tr)"
   ]
  },
  {
   "cell_type": "code",
   "execution_count": 17,
   "id": "d2143ffd",
   "metadata": {},
   "outputs": [
    {
     "name": "stdout",
     "output_type": "stream",
     "text": [
      "Model 3\n",
      "Train: 0.7269230769230769\n",
      "Val: 0.7395833333333334\n"
     ]
    },
    {
     "data": {
      "text/plain": [
       "(<AxesSubplot:xlabel='Intensity', ylabel='Symmetry'>,\n",
       " <AxesSubplot:xlabel='Intensity', ylabel='Symmetry'>)"
      ]
     },
     "execution_count": 17,
     "metadata": {},
     "output_type": "execute_result"
    },
    {
     "data": {
      "image/png": "[encoded data removed]",
      "text/plain": [
       "<Figure size 432x288 with 2 Axes>"
      ]
     },
     "metadata": {
      "needs_background": "light"
     },
     "output_type": "display_data"
    }
   ],
   "source": [
    "print(\"Model 3\")\n",
    "print(\"Train:\", model3.score(X_tr, Y_tr))\n",
    "print(\"Val:\", model3.score(X_val, Y_val))\n",
    "fig, (ax1, ax2) = plt.subplots(ncols=2)\n",
    "plot_results(ax1, ax2, model3, train, val)"
   ]
  },
  {
   "cell_type": "markdown",
   "id": "b24a7e19",
   "metadata": {},
   "source": [
    "## Model 4: Regularization"
   ]
  },
  {
   "cell_type": "code",
   "execution_count": 28,
   "id": "64f271e5",
   "metadata": {},
   "outputs": [
    {
     "data": {
      "text/plain": [
       "Pipeline(steps=[('scaler', StandardScaler()),\n",
       "                ('poly', PolynomialFeatures(degree=8, include_bias=False)),\n",
       "                ('perceptron',\n",
       "                 Perceptron(alpha=0.1, eta0=0.003, penalty='elasticnet'))])"
      ]
     },
     "execution_count": 28,
     "metadata": {},
     "output_type": "execute_result"
    }
   ],
   "source": [
    "model4 = Pipeline([\n",
    "    (\"scaler\", StandardScaler()),\n",
    "    (\"poly\", PolynomialFeatures(8, include_bias=False)),\n",
    "    (\"perceptron\", Perceptron(eta0=0.003, penalty=\"elasticnet\", alpha=1e-1))\n",
    "])\n",
    "model4.fit(X_tr, Y_tr)"
   ]
  },
  {
   "cell_type": "code",
   "execution_count": 29,
   "id": "670dc7ca",
   "metadata": {},
   "outputs": [
    {
     "name": "stdout",
     "output_type": "stream",
     "text": [
      "Model 4\n",
      "Train: 0.7923076923076923\n",
      "Val: 0.8125\n"
     ]
    },
    {
     "data": {
      "text/plain": [
       "(<AxesSubplot:xlabel='Intensity', ylabel='Symmetry'>,\n",
       " <AxesSubplot:xlabel='Intensity', ylabel='Symmetry'>)"
      ]
     },
     "execution_count": 29,
     "metadata": {},
     "output_type": "execute_result"
    },
    {
     "data": {
      "image/png": "[encoded data removed]",
      "text/plain": [
       "<Figure size 432x288 with 2 Axes>"
      ]
     },
     "metadata": {
      "needs_background": "light"
     },
     "output_type": "display_data"
    }
   ],
   "source": [
    "print(\"Model 4\")\n",
    "print(\"Train:\", model4.score(X_tr, Y_tr))\n",
    "print(\"Val:\", model4.score(X_val, Y_val))\n",
    "fig, (ax1, ax2) = plt.subplots(ncols=2)\n",
    "plot_results(ax1, ax2, model4, train, val)"
   ]
  },
  {
   "cell_type": "markdown",
   "id": "8aa1eb01",
   "metadata": {},
   "source": [
    "# Part 2"
   ]
  },
  {
   "cell_type": "markdown",
   "id": "f4c561f7",
   "metadata": {},
   "source": [
    "## Learning Rates"
   ]
  },
  {
   "cell_type": "code",
   "execution_count": 20,
   "id": "eb4d8d70",
   "metadata": {},
   "outputs": [],
   "source": [
    "from sklearn.linear_model import SGDClassifier\n",
    "scaler = StandardScaler()\n",
    "poly = PolynomialFeatures(8, include_bias=False)\n",
    "X_t = scaler.fit_transform(X_tr)\n",
    "X_tp = poly.fit_transform(X_t)\n",
    "X_tp_val = poly.transform(scaler.transform(X_val))\n",
    "\n",
    "model5 = SGDClassifier(\n",
    "    alpha=0,\n",
    "    loss=\"hinge\",\n",
    "    learning_rate=\"constant\",\n",
    "    eta0=1e-6)\n",
    "\n",
    "\n",
    "tr_score, val_score = [], []\n",
    "for i in range(50):\n",
    "    idx = list(range(X_t.shape[0]))\n",
    "    np.random.shuffle(idx)\n",
    "    #idx = idx[:B]\n",
    "    if i == 0:\n",
    "        model5.partial_fit(X_tp[idx], Y_tr[idx], classes=np.unique(Y_tr))\n",
    "    else:\n",
    "        model5.partial_fit(X_tp[idx], Y_tr[idx])\n",
    "    tr_score.append(model5.score(X_tp[idx], Y_tr[idx]))\n",
    "    val_score.append(model5.score(X_tp_val, Y_val))"
   ]
  },
  {
   "cell_type": "code",
   "execution_count": 21,
   "id": "cf1971be",
   "metadata": {},
   "outputs": [
    {
     "data": {
      "text/plain": [
       "<matplotlib.legend.Legend at 0x7f4a5a64cc10>"
      ]
     },
     "execution_count": 21,
     "metadata": {},
     "output_type": "execute_result"
    },
    {
     "data": {
      "image/png": "[encoded data removed]",
      "text/plain": [
       "<Figure size 432x288 with 1 Axes>"
      ]
     },
     "metadata": {
      "needs_background": "light"
     },
     "output_type": "display_data"
    }
   ],
   "source": [
    "fig, ax = plt.subplots()\n",
    "ax.plot(tr_score, label=\"train\")\n",
    "ax.plot(val_score, label=\"val\")\n",
    "ax.legend()"
   ]
  },
  {
   "cell_type": "markdown",
   "id": "745f483f",
   "metadata": {},
   "source": [
    "## Multilayer Perceptron"
   ]
  },
  {
   "cell_type": "code",
   "execution_count": 22,
   "id": "4e60c6ad",
   "metadata": {},
   "outputs": [
    {
     "name": "stdout",
     "output_type": "stream",
     "text": [
      "Iteration 1, loss = 0.69848543\n",
      "Iteration 2, loss = 0.69541979\n",
      "Iteration 3, loss = 0.69255289\n",
      "Iteration 4, loss = 0.68994900\n",
      "Iteration 5, loss = 0.68735053\n",
      "Iteration 6, loss = 0.68493007\n",
      "Iteration 7, loss = 0.68232683\n",
      "Iteration 8, loss = 0.67975096\n",
      "Iteration 9, loss = 0.67748398\n",
      "Iteration 10, loss = 0.67506737\n",
      "Iteration 11, loss = 0.67273084\n",
      "Iteration 12, loss = 0.67045961\n",
      "Iteration 13, loss = 0.66821110\n",
      "Iteration 14, loss = 0.66582246\n",
      "Iteration 15, loss = 0.66346830\n",
      "Iteration 16, loss = 0.66110396\n",
      "Iteration 17, loss = 0.65886025\n",
      "Iteration 18, loss = 0.65657535\n",
      "Iteration 19, loss = 0.65433654\n",
      "Iteration 20, loss = 0.65228556\n",
      "Iteration 21, loss = 0.65026260\n",
      "Iteration 22, loss = 0.64800811\n",
      "Iteration 23, loss = 0.64564739\n",
      "Iteration 24, loss = 0.64355614\n",
      "Iteration 25, loss = 0.64154783\n",
      "Iteration 26, loss = 0.63936494\n",
      "Iteration 27, loss = 0.63728177\n",
      "Iteration 28, loss = 0.63534093\n",
      "Iteration 29, loss = 0.63317874\n",
      "Iteration 30, loss = 0.63130651\n",
      "Iteration 31, loss = 0.62939212\n",
      "Iteration 32, loss = 0.62728925\n",
      "Iteration 33, loss = 0.62531413\n",
      "Iteration 34, loss = 0.62334847\n",
      "Iteration 35, loss = 0.62154852\n",
      "Iteration 36, loss = 0.61964601\n",
      "Iteration 37, loss = 0.61770773\n",
      "Iteration 38, loss = 0.61584131\n",
      "Iteration 39, loss = 0.61411424\n",
      "Iteration 40, loss = 0.61243183\n",
      "Iteration 41, loss = 0.61069242\n",
      "Iteration 42, loss = 0.60901977\n",
      "Iteration 43, loss = 0.60739821\n",
      "Iteration 44, loss = 0.60575748\n",
      "Iteration 45, loss = 0.60400713\n",
      "Iteration 46, loss = 0.60231872\n",
      "Iteration 47, loss = 0.60067480\n",
      "Iteration 48, loss = 0.59907819\n",
      "Iteration 49, loss = 0.59742570\n",
      "Iteration 50, loss = 0.59573235\n",
      "Iteration 51, loss = 0.59416861\n",
      "Iteration 52, loss = 0.59257877\n",
      "Iteration 53, loss = 0.59109441\n",
      "Iteration 54, loss = 0.58941850\n",
      "Iteration 55, loss = 0.58782808\n",
      "Iteration 56, loss = 0.58641635\n",
      "Iteration 57, loss = 0.58489527\n",
      "Iteration 58, loss = 0.58333997\n",
      "Iteration 59, loss = 0.58193804\n",
      "Iteration 60, loss = 0.58053875\n",
      "Iteration 61, loss = 0.57914406\n",
      "Iteration 62, loss = 0.57773091\n",
      "Iteration 63, loss = 0.57631053\n",
      "Iteration 64, loss = 0.57480634\n",
      "Iteration 65, loss = 0.57337158\n",
      "Iteration 66, loss = 0.57207064\n",
      "Iteration 67, loss = 0.57066469\n",
      "Iteration 68, loss = 0.56928484\n",
      "Iteration 69, loss = 0.56792445\n",
      "Iteration 70, loss = 0.56666103\n",
      "Iteration 71, loss = 0.56544978\n",
      "Iteration 72, loss = 0.56419102\n",
      "Iteration 73, loss = 0.56300451\n",
      "Iteration 74, loss = 0.56186867\n",
      "Iteration 75, loss = 0.56061859\n",
      "Iteration 76, loss = 0.55934376\n",
      "Iteration 77, loss = 0.55800217\n",
      "Iteration 78, loss = 0.55681638\n",
      "Iteration 79, loss = 0.55559906\n",
      "Iteration 80, loss = 0.55431779\n",
      "Iteration 81, loss = 0.55310522\n",
      "Iteration 82, loss = 0.55199511\n",
      "Iteration 83, loss = 0.55074502\n",
      "Iteration 84, loss = 0.54957325\n",
      "Iteration 85, loss = 0.54840971\n",
      "Iteration 86, loss = 0.54710515\n",
      "Iteration 87, loss = 0.54590059\n",
      "Iteration 88, loss = 0.54470749\n",
      "Iteration 89, loss = 0.54361778\n",
      "Iteration 90, loss = 0.54249651\n",
      "Iteration 91, loss = 0.54135993\n",
      "Iteration 92, loss = 0.54018097\n",
      "Iteration 93, loss = 0.53909040\n",
      "Iteration 94, loss = 0.53794916\n",
      "Iteration 95, loss = 0.53684958\n",
      "Iteration 96, loss = 0.53585067\n",
      "Iteration 97, loss = 0.53479165\n",
      "Iteration 98, loss = 0.53378165\n",
      "Iteration 99, loss = 0.53274986\n",
      "Iteration 100, loss = 0.53166823\n",
      "Iteration 101, loss = 0.53060846\n",
      "Iteration 102, loss = 0.52963418\n",
      "Iteration 103, loss = 0.52858308\n",
      "Iteration 104, loss = 0.52761732\n",
      "Iteration 105, loss = 0.52652133\n",
      "Iteration 106, loss = 0.52543943\n",
      "Iteration 107, loss = 0.52437541\n",
      "Iteration 108, loss = 0.52328793\n",
      "Iteration 109, loss = 0.52221209\n",
      "Iteration 110, loss = 0.52123490\n",
      "Iteration 111, loss = 0.52023761\n",
      "Iteration 112, loss = 0.51920923\n",
      "Iteration 113, loss = 0.51824738\n",
      "Iteration 114, loss = 0.51737513\n",
      "Iteration 115, loss = 0.51643342\n",
      "Iteration 116, loss = 0.51555927\n",
      "Iteration 117, loss = 0.51458425\n",
      "Iteration 118, loss = 0.51371758\n",
      "Iteration 119, loss = 0.51286148\n",
      "Iteration 120, loss = 0.51187004\n",
      "Iteration 121, loss = 0.51087831\n",
      "Iteration 122, loss = 0.51001498\n",
      "Iteration 123, loss = 0.50912941\n",
      "Iteration 124, loss = 0.50824102\n",
      "Iteration 125, loss = 0.50736414\n",
      "Iteration 126, loss = 0.50648539\n",
      "Iteration 127, loss = 0.50557281\n",
      "Iteration 128, loss = 0.50466673\n",
      "Iteration 129, loss = 0.50379676\n",
      "Iteration 130, loss = 0.50291893\n",
      "Iteration 131, loss = 0.50206457\n",
      "Iteration 132, loss = 0.50119650\n",
      "Iteration 133, loss = 0.50035990\n",
      "Iteration 134, loss = 0.49947630\n",
      "Iteration 135, loss = 0.49869838\n",
      "Iteration 136, loss = 0.49784077\n",
      "Iteration 137, loss = 0.49703180\n",
      "Iteration 138, loss = 0.49628565\n",
      "Iteration 139, loss = 0.49546926\n",
      "Iteration 140, loss = 0.49469338\n",
      "Iteration 141, loss = 0.49391798\n",
      "Iteration 142, loss = 0.49308783\n",
      "Iteration 143, loss = 0.49227413\n",
      "Iteration 144, loss = 0.49149896\n",
      "Iteration 145, loss = 0.49077853\n",
      "Iteration 146, loss = 0.49001943\n",
      "Iteration 147, loss = 0.48929379\n",
      "Iteration 148, loss = 0.48854634\n",
      "Iteration 149, loss = 0.48779092\n",
      "Iteration 150, loss = 0.48702796\n",
      "Iteration 151, loss = 0.48624151\n",
      "Iteration 152, loss = 0.48554221\n",
      "Iteration 153, loss = 0.48474810\n",
      "Iteration 154, loss = 0.48396348\n",
      "Iteration 155, loss = 0.48324209\n",
      "Iteration 156, loss = 0.48258996\n",
      "Iteration 157, loss = 0.48188730\n",
      "Iteration 158, loss = 0.48119557\n",
      "Iteration 159, loss = 0.48050158\n",
      "Iteration 160, loss = 0.47986119\n",
      "Iteration 161, loss = 0.47922387\n",
      "Iteration 162, loss = 0.47847028\n",
      "Iteration 163, loss = 0.47772437\n",
      "Iteration 164, loss = 0.47708700\n",
      "Iteration 165, loss = 0.47646244\n",
      "Iteration 166, loss = 0.47578865\n",
      "Iteration 167, loss = 0.47510723\n",
      "Iteration 168, loss = 0.47441252\n",
      "Iteration 169, loss = 0.47371114\n",
      "Iteration 170, loss = 0.47309825\n",
      "Iteration 171, loss = 0.47250712\n",
      "Iteration 172, loss = 0.47188265\n",
      "Iteration 173, loss = 0.47130013\n",
      "Iteration 174, loss = 0.47065985\n",
      "Iteration 175, loss = 0.47007149\n",
      "Iteration 176, loss = 0.46942500\n",
      "Iteration 177, loss = 0.46877994\n",
      "Iteration 178, loss = 0.46817889\n",
      "Iteration 179, loss = 0.46759402\n",
      "Iteration 180, loss = 0.46692769\n",
      "Iteration 181, loss = 0.46635441\n",
      "Iteration 182, loss = 0.46582175\n",
      "Iteration 183, loss = 0.46528131\n",
      "Iteration 184, loss = 0.46467969\n",
      "Iteration 185, loss = 0.46407946\n",
      "Iteration 186, loss = 0.46351683\n",
      "Iteration 187, loss = 0.46293067\n",
      "Iteration 188, loss = 0.46236652\n",
      "Iteration 189, loss = 0.46178673\n",
      "Iteration 190, loss = 0.46123683\n",
      "Iteration 191, loss = 0.46070297\n",
      "Iteration 192, loss = 0.46022013\n",
      "Iteration 193, loss = 0.45967663\n",
      "Iteration 194, loss = 0.45917342\n",
      "Iteration 195, loss = 0.45859179\n",
      "Iteration 196, loss = 0.45812048\n",
      "Iteration 197, loss = 0.45753272\n",
      "Iteration 198, loss = 0.45701906\n",
      "Iteration 199, loss = 0.45650287\n",
      "Iteration 200, loss = 0.45596291\n",
      "Iteration 201, loss = 0.45541762\n",
      "Iteration 202, loss = 0.45485953\n",
      "Iteration 203, loss = 0.45436109\n",
      "Iteration 204, loss = 0.45394532\n",
      "Iteration 205, loss = 0.45347334\n",
      "Iteration 206, loss = 0.45300861\n",
      "Iteration 207, loss = 0.45257528\n",
      "Iteration 208, loss = 0.45211809\n",
      "Iteration 209, loss = 0.45161722\n",
      "Iteration 210, loss = 0.45115162\n",
      "Iteration 211, loss = 0.45060106\n",
      "Iteration 212, loss = 0.45011627\n",
      "Iteration 213, loss = 0.44954929\n",
      "Iteration 214, loss = 0.44911297\n",
      "Iteration 215, loss = 0.44868421\n",
      "Iteration 216, loss = 0.44819095\n",
      "Iteration 217, loss = 0.44776013\n",
      "Iteration 218, loss = 0.44724997\n",
      "Iteration 219, loss = 0.44679796\n",
      "Iteration 220, loss = 0.44637836\n",
      "Iteration 221, loss = 0.44598944\n",
      "Iteration 222, loss = 0.44562844\n",
      "Iteration 223, loss = 0.44522851\n",
      "Iteration 224, loss = 0.44477807\n",
      "Iteration 225, loss = 0.44436762\n",
      "Iteration 226, loss = 0.44399122\n",
      "Iteration 227, loss = 0.44362190\n",
      "Iteration 228, loss = 0.44319462\n",
      "Iteration 229, loss = 0.44277217\n",
      "Iteration 230, loss = 0.44238871\n",
      "Iteration 231, loss = 0.44204361\n",
      "Iteration 232, loss = 0.44167900\n",
      "Iteration 233, loss = 0.44130747\n",
      "Iteration 234, loss = 0.44092148\n",
      "Iteration 235, loss = 0.44054704\n",
      "Iteration 236, loss = 0.44019099\n",
      "Iteration 237, loss = 0.43977288\n",
      "Iteration 238, loss = 0.43943549\n",
      "Iteration 239, loss = 0.43907601\n",
      "Iteration 240, loss = 0.43876431\n",
      "Iteration 241, loss = 0.43844065\n",
      "Iteration 242, loss = 0.43806995\n",
      "Iteration 243, loss = 0.43774311\n",
      "Iteration 244, loss = 0.43745653\n",
      "Iteration 245, loss = 0.43713629\n",
      "Iteration 246, loss = 0.43683573\n",
      "Iteration 247, loss = 0.43646127\n",
      "Iteration 248, loss = 0.43613927\n",
      "Iteration 249, loss = 0.43578921\n",
      "Iteration 250, loss = 0.43538376\n",
      "Iteration 251, loss = 0.43512726\n",
      "Iteration 252, loss = 0.43471963\n",
      "Iteration 253, loss = 0.43438645\n",
      "Iteration 254, loss = 0.43408864\n",
      "Iteration 255, loss = 0.43375018\n",
      "Iteration 256, loss = 0.43339415\n",
      "Iteration 257, loss = 0.43306625\n",
      "Iteration 258, loss = 0.43267649\n",
      "Iteration 259, loss = 0.43232860\n",
      "Iteration 260, loss = 0.43205226\n",
      "Iteration 261, loss = 0.43177375\n",
      "Iteration 262, loss = 0.43142453\n",
      "Iteration 263, loss = 0.43112259\n",
      "Iteration 264, loss = 0.43080437\n",
      "Iteration 265, loss = 0.43053141\n",
      "Iteration 266, loss = 0.43027023\n",
      "Iteration 267, loss = 0.42995603\n",
      "Iteration 268, loss = 0.42963958\n",
      "Iteration 269, loss = 0.42930119\n",
      "Iteration 270, loss = 0.42902227\n",
      "Iteration 271, loss = 0.42878675\n",
      "Iteration 272, loss = 0.42848175\n",
      "Iteration 273, loss = 0.42821829\n",
      "Iteration 274, loss = 0.42795642\n",
      "Iteration 275, loss = 0.42769763\n",
      "Iteration 276, loss = 0.42746660\n",
      "Iteration 277, loss = 0.42712585\n",
      "Iteration 278, loss = 0.42684925\n",
      "Iteration 279, loss = 0.42660305\n",
      "Iteration 280, loss = 0.42639099\n",
      "Iteration 281, loss = 0.42616346\n",
      "Iteration 282, loss = 0.42597033\n",
      "Iteration 283, loss = 0.42578398\n",
      "Iteration 284, loss = 0.42551778\n",
      "Iteration 285, loss = 0.42520522\n",
      "Iteration 286, loss = 0.42497661\n",
      "Iteration 287, loss = 0.42475005\n",
      "Iteration 288, loss = 0.42450283\n",
      "Iteration 289, loss = 0.42431707\n",
      "Iteration 290, loss = 0.42418044\n",
      "Iteration 291, loss = 0.42391670\n",
      "Iteration 292, loss = 0.42363181\n",
      "Iteration 293, loss = 0.42341080\n",
      "Iteration 294, loss = 0.42314575\n",
      "Iteration 295, loss = 0.42287522\n",
      "Iteration 296, loss = 0.42265992\n",
      "Iteration 297, loss = 0.42245810\n",
      "Iteration 298, loss = 0.42224457\n",
      "Iteration 299, loss = 0.42204408\n",
      "Iteration 300, loss = 0.42183858\n",
      "Iteration 301, loss = 0.42168158\n",
      "Iteration 302, loss = 0.42150049\n",
      "Iteration 303, loss = 0.42128235\n",
      "Iteration 304, loss = 0.42109200\n",
      "Iteration 305, loss = 0.42089372\n",
      "Iteration 306, loss = 0.42069501\n",
      "Iteration 307, loss = 0.42046050\n",
      "Iteration 308, loss = 0.42027601\n",
      "Iteration 309, loss = 0.42007955\n",
      "Iteration 310, loss = 0.41983533\n",
      "Iteration 311, loss = 0.41965898\n",
      "Iteration 312, loss = 0.41948601\n",
      "Iteration 313, loss = 0.41934704\n",
      "Iteration 314, loss = 0.41917707\n",
      "Iteration 315, loss = 0.41904182\n",
      "Iteration 316, loss = 0.41888137\n",
      "Iteration 317, loss = 0.41866354\n",
      "Iteration 318, loss = 0.41847596\n",
      "Iteration 319, loss = 0.41832615\n",
      "Iteration 320, loss = 0.41814135\n",
      "Iteration 321, loss = 0.41796356\n",
      "Iteration 322, loss = 0.41780183\n",
      "Iteration 323, loss = 0.41761008\n",
      "Iteration 324, loss = 0.41745663\n",
      "Iteration 325, loss = 0.41726123\n",
      "Iteration 326, loss = 0.41708945\n",
      "Iteration 327, loss = 0.41696515\n",
      "Iteration 328, loss = 0.41679107\n",
      "Iteration 329, loss = 0.41668037\n",
      "Iteration 330, loss = 0.41651669\n",
      "Iteration 331, loss = 0.41638132\n",
      "Iteration 332, loss = 0.41624186\n",
      "Iteration 333, loss = 0.41610623\n",
      "Iteration 334, loss = 0.41591679\n",
      "Iteration 335, loss = 0.41576094\n",
      "Iteration 336, loss = 0.41562684\n",
      "Iteration 337, loss = 0.41551735\n",
      "Iteration 338, loss = 0.41540333\n",
      "Iteration 339, loss = 0.41526690\n",
      "Iteration 340, loss = 0.41517763\n",
      "Iteration 341, loss = 0.41499785\n",
      "Iteration 342, loss = 0.41485278\n",
      "Iteration 343, loss = 0.41469630\n",
      "Iteration 344, loss = 0.41458567\n",
      "Iteration 345, loss = 0.41446237\n",
      "Iteration 346, loss = 0.41432164\n",
      "Iteration 347, loss = 0.41418165\n",
      "Iteration 348, loss = 0.41402133\n",
      "Iteration 349, loss = 0.41387532\n",
      "Iteration 350, loss = 0.41377180\n",
      "Iteration 351, loss = 0.41367394\n",
      "Iteration 352, loss = 0.41349940\n",
      "Iteration 353, loss = 0.41336139\n",
      "Iteration 354, loss = 0.41323353\n",
      "Iteration 355, loss = 0.41312099\n",
      "Iteration 356, loss = 0.41299335\n",
      "Iteration 357, loss = 0.41289542\n",
      "Iteration 358, loss = 0.41275002\n",
      "Iteration 359, loss = 0.41262758\n",
      "Iteration 360, loss = 0.41255588\n",
      "Iteration 361, loss = 0.41249057\n",
      "Iteration 362, loss = 0.41230919\n",
      "Iteration 363, loss = 0.41213813\n",
      "Iteration 364, loss = 0.41197940\n",
      "Iteration 365, loss = 0.41183671\n",
      "Iteration 366, loss = 0.41174821\n",
      "Iteration 367, loss = 0.41157723\n",
      "Iteration 368, loss = 0.41143791\n",
      "Iteration 369, loss = 0.41132914\n",
      "Iteration 370, loss = 0.41120726\n",
      "Iteration 371, loss = 0.41112307\n",
      "Iteration 372, loss = 0.41101876\n",
      "Iteration 373, loss = 0.41091230\n",
      "Iteration 374, loss = 0.41081989\n",
      "Iteration 375, loss = 0.41072022\n",
      "Iteration 376, loss = 0.41060904\n",
      "Iteration 377, loss = 0.41049972\n",
      "Iteration 378, loss = 0.41039989\n",
      "Iteration 379, loss = 0.41029698\n",
      "Iteration 380, loss = 0.41020497\n",
      "Iteration 381, loss = 0.41007349\n",
      "Iteration 382, loss = 0.40994239\n",
      "Iteration 383, loss = 0.40981386\n",
      "Iteration 384, loss = 0.40968891\n",
      "Iteration 385, loss = 0.40953829\n",
      "Iteration 386, loss = 0.40945950\n",
      "Iteration 387, loss = 0.40939528\n",
      "Iteration 388, loss = 0.40928983\n",
      "Iteration 389, loss = 0.40922505\n",
      "Iteration 390, loss = 0.40912912\n",
      "Iteration 391, loss = 0.40902642\n",
      "Iteration 392, loss = 0.40902094\n",
      "Iteration 393, loss = 0.40889787\n",
      "Iteration 394, loss = 0.40879678\n",
      "Iteration 395, loss = 0.40866745\n",
      "Iteration 396, loss = 0.40858161\n",
      "Iteration 397, loss = 0.40851057\n",
      "Iteration 398, loss = 0.40842708\n",
      "Iteration 399, loss = 0.40834727\n",
      "Iteration 400, loss = 0.40826779\n",
      "Iteration 401, loss = 0.40818281\n",
      "Iteration 402, loss = 0.40813154\n",
      "Iteration 403, loss = 0.40802792\n",
      "Iteration 404, loss = 0.40798820\n",
      "Iteration 405, loss = 0.40787436\n",
      "Iteration 406, loss = 0.40780409\n",
      "Iteration 407, loss = 0.40772372\n",
      "Iteration 408, loss = 0.40761311\n",
      "Iteration 409, loss = 0.40757157\n",
      "Iteration 410, loss = 0.40746271\n",
      "Iteration 411, loss = 0.40737126\n",
      "Iteration 412, loss = 0.40731981\n",
      "Iteration 413, loss = 0.40717657\n",
      "Iteration 414, loss = 0.40705003\n",
      "Iteration 415, loss = 0.40699376\n",
      "Iteration 416, loss = 0.40689015\n",
      "Iteration 417, loss = 0.40680272\n",
      "Iteration 418, loss = 0.40669966\n",
      "Iteration 419, loss = 0.40662441\n",
      "Iteration 420, loss = 0.40655066\n",
      "Iteration 421, loss = 0.40650473\n",
      "Iteration 422, loss = 0.40636891\n",
      "Iteration 423, loss = 0.40629256\n",
      "Iteration 424, loss = 0.40621793\n",
      "Iteration 425, loss = 0.40613082\n",
      "Iteration 426, loss = 0.40610229\n",
      "Iteration 427, loss = 0.40605414\n",
      "Iteration 428, loss = 0.40597122\n",
      "Iteration 429, loss = 0.40587670\n",
      "Iteration 430, loss = 0.40581640\n",
      "Iteration 431, loss = 0.40572311\n",
      "Iteration 432, loss = 0.40565435\n",
      "Iteration 433, loss = 0.40559298\n",
      "Training loss did not improve more than tol=0.000100 for 10 consecutive epochs. Stopping.\n"
     ]
    },
    {
     "data": {
      "text/plain": [
       "Pipeline(steps=[('scaler', StandardScaler()),\n",
       "                ('mlp',\n",
       "                 MLPClassifier(hidden_layer_sizes=(50, 50),\n",
       "                               learning_rate_init=0.01, max_iter=1000,\n",
       "                               momentum=0, solver='sgd', verbose=1))])"
      ]
     },
     "execution_count": 22,
     "metadata": {},
     "output_type": "execute_result"
    }
   ],
   "source": [
    "from sklearn.neural_network import MLPClassifier\n",
    "\n",
    "model6 = Pipeline([\n",
    "    (\"scaler\", StandardScaler()),\n",
    "    (\"mlp\", MLPClassifier(\n",
    "        verbose=1,\n",
    "        hidden_layer_sizes=(50, 50),\n",
    "        learning_rate_init=0.01,\n",
    "        solver=\"sgd\", # default 'adam' is much better...\n",
    "        momentum=0,\n",
    "        max_iter=1000))\n",
    "])\n",
    "model6.fit(X_tr, Y_tr)"
   ]
  },
  {
   "cell_type": "code",
   "execution_count": 23,
   "id": "de276f25",
   "metadata": {},
   "outputs": [
    {
     "name": "stdout",
     "output_type": "stream",
     "text": [
      "Model 6\n",
      "Train: 0.8076923076923077\n",
      "Val: 0.8333333333333334\n"
     ]
    },
    {
     "data": {
      "text/plain": [
       "(<AxesSubplot:xlabel='Intensity', ylabel='Symmetry'>,\n",
       " <AxesSubplot:xlabel='Intensity', ylabel='Symmetry'>)"
      ]
     },
     "execution_count": 23,
     "metadata": {},
     "output_type": "execute_result"
    },
    {
     "data": {
      "image/png": "[encoded data removed]",
      "text/plain": [
       "<Figure size 432x288 with 2 Axes>"
      ]
     },
     "metadata": {
      "needs_background": "light"
     },
     "output_type": "display_data"
    }
   ],
   "source": [
    "print(\"Model 6\")\n",
    "print(\"Train:\", model6.score(X_tr, Y_tr))\n",
    "print(\"Val:\", model6.score(X_val, Y_val))\n",
    "fig, (ax1, ax2) = plt.subplots(ncols=2)\n",
    "plot_results(ax1, ax2, model6, train, val)"
   ]
  },
  {
   "cell_type": "markdown",
   "id": "ccdb2a5d",
   "metadata": {},
   "source": [
    "## Support Vector Machine"
   ]
  },
  {
   "cell_type": "code",
   "execution_count": 24,
   "id": "637f13d0",
   "metadata": {},
   "outputs": [
    {
     "data": {
      "text/plain": [
       "Pipeline(steps=[('scaler', StandardScaler()), ('mlp', SVC(C=0.5))])"
      ]
     },
     "execution_count": 24,
     "metadata": {},
     "output_type": "execute_result"
    }
   ],
   "source": [
    "from sklearn.svm import SVC\n",
    "\n",
    "model7 = Pipeline([\n",
    "    (\"scaler\", StandardScaler()),\n",
    "    (\"mlp\", SVC(C=0.5, kernel=\"rbf\"))\n",
    "])\n",
    "model7.fit(X_tr, Y_tr)"
   ]
  },
  {
   "cell_type": "code",
   "execution_count": 25,
   "id": "da0defcb",
   "metadata": {},
   "outputs": [
    {
     "name": "stdout",
     "output_type": "stream",
     "text": [
      "Model 7\n",
      "Train: 0.8\n",
      "Val: 0.84375\n"
     ]
    },
    {
     "data": {
      "text/plain": [
       "(<AxesSubplot:xlabel='Intensity', ylabel='Symmetry'>,\n",
       " <AxesSubplot:xlabel='Intensity', ylabel='Symmetry'>)"
      ]
     },
     "execution_count": 25,
     "metadata": {},
     "output_type": "execute_result"
    },
    {
     "data": {
      "image/png": "[encoded data removed]",
      "text/plain": [
       "<Figure size 432x288 with 2 Axes>"
      ]
     },
     "metadata": {
      "needs_background": "light"
     },
     "output_type": "display_data"
    }
   ],
   "source": [
    "print(\"Model 7\")\n",
    "print(\"Train:\", model7.score(X_tr, Y_tr))\n",
    "print(\"Val:\", model7.score(X_val, Y_val))\n",
    "fig, (ax1, ax2) = plt.subplots(ncols=2)\n",
    "plot_results(ax1, ax2, model7, train, val)"
   ]
  },
  {
   "cell_type": "code",
   "execution_count": null,
   "id": "78b0e811",
   "metadata": {},
   "outputs": [],
   "source": []
  }
 ],
 "metadata": {
  "kernelspec": {
   "display_name": "Python 3 (ipykernel)",
   "language": "python",
   "name": "python3"
  },
  "language_info": {
   "codemirror_mode": {
    "name": "ipython",
    "version": 3
   },
   "file_extension": ".py",
   "mimetype": "text/x-python",
   "name": "python",
   "nbconvert_exporter": "python",
   "pygments_lexer": "ipython3",
   "version": "3.9.12"
  }
 },
 "nbformat": 4,
 "nbformat_minor": 5
}
